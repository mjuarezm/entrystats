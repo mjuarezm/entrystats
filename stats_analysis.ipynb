{
 "cells": [
  {
   "cell_type": "code",
   "execution_count": 1,
   "metadata": {
    "collapsed": false
   },
   "outputs": [
    {
     "data": {
      "application/javascript": [
       "$.getScript('http://homes.esat.kuleuven.be/~mjuarezm/ipy_toc.js')"
      ],
      "text/plain": [
       "<IPython.core.display.Javascript object>"
      ]
     },
     "metadata": {},
     "output_type": "display_data"
    }
   ],
   "source": [
    "%%javascript\n",
    "$.getScript('http://homes.esat.kuleuven.be/~mjuarezm/ipy_toc.js')"
   ]
  },
  {
   "cell_type": "markdown",
   "metadata": {
    "toc": "true"
   },
   "source": [
    "<h1 id=\"tocheading\">Table of Contents</h1>\n",
    "<div id=\"toc\"></div>"
   ]
  },
  {
   "cell_type": "code",
   "execution_count": 15,
   "metadata": {
    "collapsed": false
   },
   "outputs": [],
   "source": [
    "# ipy imports\n",
    "%matplotlib inline\n",
    "from IPython.display import HTML\n",
    "from IPython.core.interactiveshell import InteractiveShell\n",
    "\n",
    "# Notebook config\n",
    "InteractiveShell.ast_node_interactivity = \"all\""
   ]
  },
  {
   "cell_type": "code",
   "execution_count": 3,
   "metadata": {
    "collapsed": false
   },
   "outputs": [
    {
     "data": {
      "text/html": [
       "<form action=\"javascript:code_toggle()\">\n",
       "            <input type=\"submit\" value=\"Click here to toggle on/off the raw code.\">\n",
       "        </form>\n",
       "     "
      ],
      "text/plain": [
       "<IPython.core.display.HTML object>"
      ]
     },
     "execution_count": 3,
     "metadata": {},
     "output_type": "execute_result"
    }
   ],
   "source": [
    "# button to toggle code\n",
    "HTML('''<form action=\"javascript:code_toggle()\">\n",
    "            <input type=\"submit\" value=\"Toggle cells.\">\n",
    "        </form>\n",
    "     ''')"
   ]
  },
  {
   "cell_type": "markdown",
   "metadata": {},
   "source": [
    "# Introduction\n",
    "\n",
    "The objective of this analysis is to study the distribution of network jitter in Tor nodes. Some nodes might have a significantly large jitter than the average. We believe that in those cases, website fingerprinting may have lower effectiveness than in the nodes with low jitter. The rationale is that even if the Tor path is independent of the website, the interaction between the page structure (HTTP request/response pattern) and the jitter, may make the fingerprint less reliable than in high-jitter paths."
   ]
  },
  {
   "cell_type": "code",
   "execution_count": 4,
   "metadata": {
    "collapsed": false
   },
   "outputs": [],
   "source": [
    "import re\n",
    "from os import listdir\n",
    "from os.path import join, dirname, realpath, isdir, getmtime, splitext\n",
    "from glob import glob\n",
    "\n",
    "import numpy as np\n",
    "import pandas as pd\n",
    "\n",
    "import matplotlib as mpl\n",
    "import matplotlib.pyplot as plt\n",
    "mpl.style.use('ggplot')\n",
    "\n",
    "# directories\n",
    "BASE_DIR = dirname(realpath(\"__file__\"))\n",
    "RESULTS_DIR = join(BASE_DIR, 'results')\n",
    "LATEST_FILE = max([join(RESULTS_DIR, d) for d in listdir(RESULTS_DIR)], key=getmtime)\n",
    "LATEST_DATA = '%s.csv' % splitext(LATEST_FILE)[0]"
   ]
  },
  {
   "cell_type": "code",
   "execution_count": 5,
   "metadata": {
    "collapsed": false
   },
   "outputs": [],
   "source": [
    "# URLs\n",
    "ATLAS = '<a href=\"https://atlas.torproject.org/#details/{fp}\" target=\"_blank\">{fp}</a>'\n",
    "\n",
    "def fp2url(df):\n",
    "    \"\"\"Convert node fingerprints to links to Tor Atlas.\"\"\"\n",
    "    fp_re = re.compile(r\"([A-F0-9]{40})\", re.MULTILINE | re.UNICODE)\n",
    "    def repl_fp(match):\n",
    "        match = match.group()\n",
    "        return ATLAS.format(fp=match)\n",
    "    return fp_re.sub(repl_fp, df.to_html())"
   ]
  },
  {
   "cell_type": "markdown",
   "metadata": {},
   "source": [
    "# Collected data\n",
    "\n",
    "\n",
    "For our data collection, we make a TCP connection to the node's OR port and record all the traffic that is generated. In total, we have collected:"
   ]
  },
  {
   "cell_type": "code",
   "execution_count": 6,
   "metadata": {
    "collapsed": false
   },
   "outputs": [
    {
     "name": "stdout",
     "output_type": "stream",
     "text": [
      "- Total num samples: 1576222\n",
      "- Found data for 6754 nodes\n",
      "- An average of 233 samples for each node.\n"
     ]
    }
   ],
   "source": [
    "# load data\n",
    "data = pd.read_csv(join(LATEST_DATA))\n",
    "\n",
    "num_samples = len(data)\n",
    "print \"- Total num samples:\", num_samples\n",
    "\n",
    "nodes = data.groupby(['fp'])['fp'].count()\n",
    "num_nodes = len(nodes)\n",
    "print \"- Found data for\", num_nodes, \"nodes\"\n",
    "\n",
    "avg_num_samples_per_nodes = nodes.mean()\n",
    "print \"- An average of\", int(avg_num_samples_per_nodes), \"samples for each node.\""
   ]
  },
  {
   "cell_type": "markdown",
   "metadata": {
    "variables": {
     "guards": "426",
     "int(avg_samples)": "1"
    }
   },
   "source": [
    "This is how the dataset looks like:"
   ]
  },
  {
   "cell_type": "code",
   "execution_count": 37,
   "metadata": {
    "code_folding": [],
    "collapsed": false
   },
   "outputs": [
    {
     "data": {
      "text/html": [
       "<div>\n",
       "<table border=\"1\" class=\"dataframe\">\n",
       "  <thead>\n",
       "    <tr style=\"text-align: right;\">\n",
       "      <th></th>\n",
       "      <th>sample_id</th>\n",
       "      <th>fp</th>\n",
       "      <th>flags</th>\n",
       "      <th>latency</th>\n",
       "    </tr>\n",
       "  </thead>\n",
       "  <tbody>\n",
       "    <tr>\n",
       "      <th>0</th>\n",
       "      <td>71129060</td>\n",
       "      <td>000A10D43011EA4928A35F610405F92B4433B4DC</td>\n",
       "      <td>Running Stable Valid</td>\n",
       "      <td>0.214820</td>\n",
       "    </tr>\n",
       "    <tr>\n",
       "      <th>1</th>\n",
       "      <td>71129061</td>\n",
       "      <td>000A10D43011EA4928A35F610405F92B4433B4DC</td>\n",
       "      <td>Running Stable Valid</td>\n",
       "      <td>0.194509</td>\n",
       "    </tr>\n",
       "    <tr>\n",
       "      <th>2</th>\n",
       "      <td>71129072</td>\n",
       "      <td>000A10D43011EA4928A35F610405F92B4433B4DC</td>\n",
       "      <td>Running Stable Valid</td>\n",
       "      <td>0.181540</td>\n",
       "    </tr>\n",
       "    <tr>\n",
       "      <th>3</th>\n",
       "      <td>71129083</td>\n",
       "      <td>000A10D43011EA4928A35F610405F92B4433B4DC</td>\n",
       "      <td>Running Stable Valid</td>\n",
       "      <td>0.181521</td>\n",
       "    </tr>\n",
       "    <tr>\n",
       "      <th>4</th>\n",
       "      <td>71129084</td>\n",
       "      <td>000A10D43011EA4928A35F610405F92B4433B4DC</td>\n",
       "      <td>Running Stable Valid</td>\n",
       "      <td>0.193479</td>\n",
       "    </tr>\n",
       "    <tr>\n",
       "      <th>5</th>\n",
       "      <td>71129050</td>\n",
       "      <td>000DC6DAF1CDB24879401E549F969FC72C1D690D</td>\n",
       "      <td>Fast Running V2Dir Valid</td>\n",
       "      <td>0.073185</td>\n",
       "    </tr>\n",
       "    <tr>\n",
       "      <th>6</th>\n",
       "      <td>71129051</td>\n",
       "      <td>000DC6DAF1CDB24879401E549F969FC72C1D690D</td>\n",
       "      <td>Fast Running V2Dir Valid</td>\n",
       "      <td>0.034997</td>\n",
       "    </tr>\n",
       "    <tr>\n",
       "      <th>7</th>\n",
       "      <td>71129062</td>\n",
       "      <td>000DC6DAF1CDB24879401E549F969FC72C1D690D</td>\n",
       "      <td>Fast Running V2Dir Valid</td>\n",
       "      <td>0.028168</td>\n",
       "    </tr>\n",
       "    <tr>\n",
       "      <th>8</th>\n",
       "      <td>71129063</td>\n",
       "      <td>000DC6DAF1CDB24879401E549F969FC72C1D690D</td>\n",
       "      <td>Fast Running V2Dir Valid</td>\n",
       "      <td>0.041186</td>\n",
       "    </tr>\n",
       "    <tr>\n",
       "      <th>9</th>\n",
       "      <td>71129074</td>\n",
       "      <td>000DC6DAF1CDB24879401E549F969FC72C1D690D</td>\n",
       "      <td>Fast Running V2Dir Valid</td>\n",
       "      <td>0.041439</td>\n",
       "    </tr>\n",
       "    <tr>\n",
       "      <th>10</th>\n",
       "      <td>71129040</td>\n",
       "      <td>001524DD403D729F08F7E5D77813EF12756CFA8D</td>\n",
       "      <td>Fast Guard HSDir Running Stable V2Dir Valid</td>\n",
       "      <td>0.046155</td>\n",
       "    </tr>\n",
       "    <tr>\n",
       "      <th>11</th>\n",
       "      <td>71129051</td>\n",
       "      <td>001524DD403D729F08F7E5D77813EF12756CFA8D</td>\n",
       "      <td>Fast Guard HSDir Running Stable V2Dir Valid</td>\n",
       "      <td>0.043745</td>\n",
       "    </tr>\n",
       "    <tr>\n",
       "      <th>12</th>\n",
       "      <td>71129052</td>\n",
       "      <td>001524DD403D729F08F7E5D77813EF12756CFA8D</td>\n",
       "      <td>Fast Guard HSDir Running Stable V2Dir Valid</td>\n",
       "      <td>0.051902</td>\n",
       "    </tr>\n",
       "    <tr>\n",
       "      <th>13</th>\n",
       "      <td>71129063</td>\n",
       "      <td>001524DD403D729F08F7E5D77813EF12756CFA8D</td>\n",
       "      <td>Fast Guard HSDir Running Stable V2Dir Valid</td>\n",
       "      <td>0.043868</td>\n",
       "    </tr>\n",
       "    <tr>\n",
       "      <th>14</th>\n",
       "      <td>71129064</td>\n",
       "      <td>001524DD403D729F08F7E5D77813EF12756CFA8D</td>\n",
       "      <td>Fast Guard HSDir Running Stable V2Dir Valid</td>\n",
       "      <td>0.031161</td>\n",
       "    </tr>\n",
       "    <tr>\n",
       "      <th>15</th>\n",
       "      <td>71129030</td>\n",
       "      <td>00161E152FCF43380176F13B964656BD243D6F33</td>\n",
       "      <td>Fast Guard HSDir Running Stable V2Dir Valid</td>\n",
       "      <td>0.140700</td>\n",
       "    </tr>\n",
       "    <tr>\n",
       "      <th>16</th>\n",
       "      <td>71129041</td>\n",
       "      <td>00161E152FCF43380176F13B964656BD243D6F33</td>\n",
       "      <td>Fast Guard HSDir Running Stable V2Dir Valid</td>\n",
       "      <td>0.069049</td>\n",
       "    </tr>\n",
       "    <tr>\n",
       "      <th>17</th>\n",
       "      <td>71129042</td>\n",
       "      <td>00161E152FCF43380176F13B964656BD243D6F33</td>\n",
       "      <td>Fast Guard HSDir Running Stable V2Dir Valid</td>\n",
       "      <td>0.046232</td>\n",
       "    </tr>\n",
       "    <tr>\n",
       "      <th>18</th>\n",
       "      <td>71129053</td>\n",
       "      <td>00161E152FCF43380176F13B964656BD243D6F33</td>\n",
       "      <td>Fast Guard HSDir Running Stable V2Dir Valid</td>\n",
       "      <td>0.066083</td>\n",
       "    </tr>\n",
       "    <tr>\n",
       "      <th>19</th>\n",
       "      <td>71129054</td>\n",
       "      <td>00161E152FCF43380176F13B964656BD243D6F33</td>\n",
       "      <td>Fast Guard HSDir Running Stable V2Dir Valid</td>\n",
       "      <td>0.060732</td>\n",
       "    </tr>\n",
       "  </tbody>\n",
       "</table>\n",
       "</div>"
      ],
      "text/plain": [
       "    sample_id                                        fp  \\\n",
       "0    71129060  000A10D43011EA4928A35F610405F92B4433B4DC   \n",
       "1    71129061  000A10D43011EA4928A35F610405F92B4433B4DC   \n",
       "2    71129072  000A10D43011EA4928A35F610405F92B4433B4DC   \n",
       "3    71129083  000A10D43011EA4928A35F610405F92B4433B4DC   \n",
       "4    71129084  000A10D43011EA4928A35F610405F92B4433B4DC   \n",
       "5    71129050  000DC6DAF1CDB24879401E549F969FC72C1D690D   \n",
       "6    71129051  000DC6DAF1CDB24879401E549F969FC72C1D690D   \n",
       "7    71129062  000DC6DAF1CDB24879401E549F969FC72C1D690D   \n",
       "8    71129063  000DC6DAF1CDB24879401E549F969FC72C1D690D   \n",
       "9    71129074  000DC6DAF1CDB24879401E549F969FC72C1D690D   \n",
       "10   71129040  001524DD403D729F08F7E5D77813EF12756CFA8D   \n",
       "11   71129051  001524DD403D729F08F7E5D77813EF12756CFA8D   \n",
       "12   71129052  001524DD403D729F08F7E5D77813EF12756CFA8D   \n",
       "13   71129063  001524DD403D729F08F7E5D77813EF12756CFA8D   \n",
       "14   71129064  001524DD403D729F08F7E5D77813EF12756CFA8D   \n",
       "15   71129030  00161E152FCF43380176F13B964656BD243D6F33   \n",
       "16   71129041  00161E152FCF43380176F13B964656BD243D6F33   \n",
       "17   71129042  00161E152FCF43380176F13B964656BD243D6F33   \n",
       "18   71129053  00161E152FCF43380176F13B964656BD243D6F33   \n",
       "19   71129054  00161E152FCF43380176F13B964656BD243D6F33   \n",
       "\n",
       "                                          flags   latency  \n",
       "0                          Running Stable Valid  0.214820  \n",
       "1                          Running Stable Valid  0.194509  \n",
       "2                          Running Stable Valid  0.181540  \n",
       "3                          Running Stable Valid  0.181521  \n",
       "4                          Running Stable Valid  0.193479  \n",
       "5                      Fast Running V2Dir Valid  0.073185  \n",
       "6                      Fast Running V2Dir Valid  0.034997  \n",
       "7                      Fast Running V2Dir Valid  0.028168  \n",
       "8                      Fast Running V2Dir Valid  0.041186  \n",
       "9                      Fast Running V2Dir Valid  0.041439  \n",
       "10  Fast Guard HSDir Running Stable V2Dir Valid  0.046155  \n",
       "11  Fast Guard HSDir Running Stable V2Dir Valid  0.043745  \n",
       "12  Fast Guard HSDir Running Stable V2Dir Valid  0.051902  \n",
       "13  Fast Guard HSDir Running Stable V2Dir Valid  0.043868  \n",
       "14  Fast Guard HSDir Running Stable V2Dir Valid  0.031161  \n",
       "15  Fast Guard HSDir Running Stable V2Dir Valid  0.140700  \n",
       "16  Fast Guard HSDir Running Stable V2Dir Valid  0.069049  \n",
       "17  Fast Guard HSDir Running Stable V2Dir Valid  0.046232  \n",
       "18  Fast Guard HSDir Running Stable V2Dir Valid  0.066083  \n",
       "19  Fast Guard HSDir Running Stable V2Dir Valid  0.060732  "
      ]
     },
     "execution_count": 37,
     "metadata": {},
     "output_type": "execute_result"
    }
   ],
   "source": [
    "# load data in a dataframe\n",
    "data[:20]"
   ]
  },
  {
   "cell_type": "markdown",
   "metadata": {},
   "source": [
    "# Latency\n",
    "\n",
    "From the traffic traces collected for the TCP connections to the nodes, we extract the first SYN+ACK packet (if any) and its corresponding SYN packet. Next, we substract the SYN timestamp to the SYN+ACK timestamp to obtain a measurement of the latency to a node.\n",
    "\n",
    "We extract some basic statistics about the latencies:"
   ]
  },
  {
   "cell_type": "code",
   "execution_count": null,
   "metadata": {
    "collapsed": true
   },
   "outputs": [],
   "source": [
    "data['latency'].describe()"
   ]
  },
  {
   "cell_type": "code",
   "execution_count": 39,
   "metadata": {
    "collapsed": false
   },
   "outputs": [
    {
     "ename": "AttributeError",
     "evalue": "'unicode' object has no attribute 'str'",
     "output_type": "error",
     "traceback": [
      "\u001b[0;31m---------------------------------------------------------------------------\u001b[0m",
      "\u001b[0;31mAttributeError\u001b[0m                            Traceback (most recent call last)",
      "\u001b[0;32m<ipython-input-39-de2ea3c3e449>\u001b[0m in \u001b[0;36m<module>\u001b[0;34m()\u001b[0m\n\u001b[1;32m      1\u001b[0m \u001b[0;31m# group by each five samples\u001b[0m\u001b[0;34m\u001b[0m\u001b[0;34m\u001b[0m\u001b[0m\n\u001b[0;32m----> 2\u001b[0;31m \u001b[0mdata\u001b[0m\u001b[0;34m.\u001b[0m\u001b[0msample_id\u001b[0m\u001b[0;34m.\u001b[0m\u001b[0mto_string\u001b[0m\u001b[0;34m(\u001b[0m\u001b[0;34m)\u001b[0m\u001b[0;34m.\u001b[0m\u001b[0mstr\u001b[0m\u001b[0;34m[\u001b[0m\u001b[0;34m:\u001b[0m\u001b[0;34m-\u001b[0m\u001b[0;36m2\u001b[0m\u001b[0;34m]\u001b[0m\u001b[0;34m\u001b[0m\u001b[0m\n\u001b[0m",
      "\u001b[0;31mAttributeError\u001b[0m: 'unicode' object has no attribute 'str'"
     ]
    }
   ],
   "source": [
    "# group by each five samples\n",
    "data.sample_id.to_string().str[:-2]"
   ]
  },
  {
   "cell_type": "code",
   "execution_count": 33,
   "metadata": {
    "collapsed": false
   },
   "outputs": [
    {
     "data": {
      "text/plain": [
       "<matplotlib.axes._subplots.AxesSubplot at 0x7fbf105c22d0>"
      ]
     },
     "execution_count": 33,
     "metadata": {},
     "output_type": "execute_result"
    }
   ],
   "source": [
    "data[['flags', 'latency']].plot(by='flags', kind='hist', ax=ax1, figsize=(10, 3), title=\"Node mean latency\")"
   ]
  },
  {
   "cell_type": "markdown",
   "metadata": {
    "collapsed": true
   },
   "source": [
    "We plot the histogram of latencies:"
   ]
  },
  {
   "cell_type": "code",
   "execution_count": 10,
   "metadata": {
    "collapsed": false
   },
   "outputs": [
    {
     "data": {
      "image/png": "[encoded data removed]",
      "text/plain": [
       "<matplotlib.figure.Figure at 0x7fbede230ed0>"
      ]
     },
     "metadata": {},
     "output_type": "display_data"
    }
   ],
   "source": [
    "fig, (ax1, ax2) = plt.subplots(nrows=1, ncols=2)\n",
    "mean_latencies = data.groupby(['fp']).latency.mean().reset_index(name='mean_latency')\n",
    "mean_latencies['mean_latency'].plot(kind='hist', ax=ax1, figsize=(10, 3), title=\"Node mean latency\");\n",
    "mean_latencies['mean_latency'].apply(np.log).plot(kind='hist', ax=ax2, figsize=(10, 3), title=\"Node mean latency (log scale)\");"
   ]
  },
  {
   "cell_type": "markdown",
   "metadata": {},
   "source": [
    "Top nodes by average latency:"
   ]
  },
  {
   "cell_type": "code",
   "execution_count": 11,
   "metadata": {
    "collapsed": false
   },
   "outputs": [
    {
     "data": {
      "text/html": [
       "<table border=\"1\" class=\"dataframe\">\n",
       "  <thead>\n",
       "    <tr style=\"text-align: right;\">\n",
       "      <th></th>\n",
       "      <th>fp</th>\n",
       "      <th>mean_latency</th>\n",
       "    </tr>\n",
       "  </thead>\n",
       "  <tbody>\n",
       "    <tr>\n",
       "      <th>3201</th>\n",
       "      <td><a href=\"https://atlas.torproject.org/#details/7C288587BA0D99CC6B8537CDC2C4639FA827B907\" target=\"_blank\">7C288587BA0D99CC6B8537CDC2C4639FA827B907</a></td>\n",
       "      <td>6.835259</td>\n",
       "    </tr>\n",
       "    <tr>\n",
       "      <th>3146</th>\n",
       "      <td><a href=\"https://atlas.torproject.org/#details/79CF377F0ACEC5F0002D85335E4192B34202A269\" target=\"_blank\">79CF377F0ACEC5F0002D85335E4192B34202A269</a></td>\n",
       "      <td>6.831084</td>\n",
       "    </tr>\n",
       "    <tr>\n",
       "      <th>1159</th>\n",
       "      <td><a href=\"https://atlas.torproject.org/#details/2C804AAB0C02F971A4386B3A1F2AC00F9E080679\" target=\"_blank\">2C804AAB0C02F971A4386B3A1F2AC00F9E080679</a></td>\n",
       "      <td>6.540562</td>\n",
       "    </tr>\n",
       "    <tr>\n",
       "      <th>2561</th>\n",
       "      <td><a href=\"https://atlas.torproject.org/#details/615EBC4B48F03858FA50A3E23E5AF569D0D2308A\" target=\"_blank\">615EBC4B48F03858FA50A3E23E5AF569D0D2308A</a></td>\n",
       "      <td>6.216942</td>\n",
       "    </tr>\n",
       "    <tr>\n",
       "      <th>1135</th>\n",
       "      <td><a href=\"https://atlas.torproject.org/#details/2B44FD1742D26E4F28D4CACF1F0CF8A686270E45\" target=\"_blank\">2B44FD1742D26E4F28D4CACF1F0CF8A686270E45</a></td>\n",
       "      <td>6.038559</td>\n",
       "    </tr>\n",
       "  </tbody>\n",
       "</table>"
      ],
      "text/plain": [
       "<IPython.core.display.HTML object>"
      ]
     },
     "execution_count": 11,
     "metadata": {},
     "output_type": "execute_result"
    }
   ],
   "source": [
    "top_lat = mean_latencies.sort_values(['mean_latency'], ascending=False).head()\n",
    "HTML(fp2url(top_lat))"
   ]
  },
  {
   "cell_type": "markdown",
   "metadata": {
    "collapsed": true
   },
   "source": [
    "# Jitter\n",
    "\n",
    "We measure jitter of a node as the variance of the node's latency. We can calculate the variance because we take several samples for each node."
   ]
  },
  {
   "cell_type": "code",
   "execution_count": 12,
   "metadata": {
    "collapsed": false
   },
   "outputs": [
    {
     "data": {
      "image/png": "[encoded data removed]",
      "text/plain": [
       "<matplotlib.figure.Figure at 0x7fbf01bad790>"
      ]
     },
     "metadata": {},
     "output_type": "display_data"
    }
   ],
   "source": [
    "# compute jitter\n",
    "jitters = data.groupby(['fp']).latency.std().reset_index(name='jitter')\n",
    "node_stats = pd.merge(mean_latencies, jitters, on='fp')\n",
    "\n",
    "# plot histograms\n",
    "fig, (ax1, ax2) = plt.subplots(nrows=1, ncols=2)\n",
    "node_stats['jitter'].plot(kind='hist', ax=ax1, figsize=(10, 3), title=\"Node jitter\");\n",
    "node_stats['jitter'].apply(np.log).plot(kind='hist', ax=ax2, figsize=(10, 3), title=\"Node jitter (log scale)\");"
   ]
  },
  {
   "cell_type": "markdown",
   "metadata": {},
   "source": [
    "Top nodes by jitter:"
   ]
  },
  {
   "cell_type": "code",
   "execution_count": 13,
   "metadata": {
    "collapsed": false
   },
   "outputs": [
    {
     "data": {
      "text/html": [
       "<table border=\"1\" class=\"dataframe\">\n",
       "  <thead>\n",
       "    <tr style=\"text-align: right;\">\n",
       "      <th></th>\n",
       "      <th>fp</th>\n",
       "      <th>mean_latency</th>\n",
       "      <th>jitter</th>\n",
       "    </tr>\n",
       "  </thead>\n",
       "  <tbody>\n",
       "    <tr>\n",
       "      <th>1648</th>\n",
       "      <td><a href=\"https://atlas.torproject.org/#details/3E63C02AF773DEA5341A028AA1FD48ADFB348410\" target=\"_blank\">3E63C02AF773DEA5341A028AA1FD48ADFB348410</a></td>\n",
       "      <td>4.647023</td>\n",
       "      <td>4.396737</td>\n",
       "    </tr>\n",
       "    <tr>\n",
       "      <th>5466</th>\n",
       "      <td><a href=\"https://atlas.torproject.org/#details/D0029D653FC0A6F026C5E61938A15E10478B6395\" target=\"_blank\">D0029D653FC0A6F026C5E61938A15E10478B6395</a></td>\n",
       "      <td>1.063120</td>\n",
       "      <td>2.524396</td>\n",
       "    </tr>\n",
       "    <tr>\n",
       "      <th>4907</th>\n",
       "      <td><a href=\"https://atlas.torproject.org/#details/BC5C4B2D0DB36540A59DCA72BB75C98DE76F72BF\" target=\"_blank\">BC5C4B2D0DB36540A59DCA72BB75C98DE76F72BF</a></td>\n",
       "      <td>3.136190</td>\n",
       "      <td>2.446073</td>\n",
       "    </tr>\n",
       "    <tr>\n",
       "      <th>6745</th>\n",
       "      <td><a href=\"https://atlas.torproject.org/#details/FFB8575D7C8E40AC6E48C1B7AA32AC7701E04AB9\" target=\"_blank\">FFB8575D7C8E40AC6E48C1B7AA32AC7701E04AB9</a></td>\n",
       "      <td>1.504014</td>\n",
       "      <td>2.104946</td>\n",
       "    </tr>\n",
       "    <tr>\n",
       "      <th>4194</th>\n",
       "      <td><a href=\"https://atlas.torproject.org/#details/A20840A16CB658024B0D3A0E3F19A9C0E34C843F\" target=\"_blank\">A20840A16CB658024B0D3A0E3F19A9C0E34C843F</a></td>\n",
       "      <td>0.706318</td>\n",
       "      <td>2.049198</td>\n",
       "    </tr>\n",
       "  </tbody>\n",
       "</table>"
      ],
      "text/plain": [
       "<IPython.core.display.HTML object>"
      ]
     },
     "execution_count": 13,
     "metadata": {},
     "output_type": "execute_result"
    }
   ],
   "source": [
    "top_jitter = node_stats.sort_values(['jitter'], ascending=False).head()\n",
    "HTML(fp2url(top_jitter))"
   ]
  },
  {
   "cell_type": "code",
   "execution_count": null,
   "metadata": {
    "collapsed": true
   },
   "outputs": [],
   "source": []
  }
 ],
 "metadata": {
  "kernelspec": {
   "display_name": "Python 2",
   "language": "python",
   "name": "python2"
  },
  "language_info": {
   "codemirror_mode": {
    "name": "ipython",
    "version": 2
   },
   "file_extension": ".py",
   "mimetype": "text/x-python",
   "name": "python",
   "nbconvert_exporter": "python",
   "pygments_lexer": "ipython2",
   "version": "2.7.9"
  },
  "latex_envs": {
   "bibliofile": "biblio.bib",
   "cite_by": "apalike",
   "current_citInitial": 1,
   "eqLabelWithNumbers": true,
   "eqNumInitial": 0
  },
  "toc": {
   "toc_cell": true,
   "toc_number_sections": true,
   "toc_threshold": 6,
   "toc_window_display": false
  }
 },
 "nbformat": 4,
 "nbformat_minor": 0
}
