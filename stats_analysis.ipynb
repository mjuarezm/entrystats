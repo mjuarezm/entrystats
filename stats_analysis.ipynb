{
 "cells": [
  {
   "cell_type": "markdown",
   "metadata": {
    "toc": "true"
   },
   "source": [
    "# Table of Contents\n",
    " <p><div class=\"lev1\"><a href=\"#Introduction\"><span class=\"toc-item-num\">1&nbsp;&nbsp;</span>Introduction</a></div><div class=\"lev2\"><a href=\"#Collected-data\"><span class=\"toc-item-num\">1.1&nbsp;&nbsp;</span>Collected data</a></div><div class=\"lev2\"><a href=\"#Collected-data\"><span class=\"toc-item-num\">1.2&nbsp;&nbsp;</span>Collected data</a></div><div class=\"lev2\"><a href=\"#Latency\"><span class=\"toc-item-num\">1.3&nbsp;&nbsp;</span>Latency</a></div>"
   ]
  },
  {
   "cell_type": "markdown",
   "metadata": {},
   "source": [
    "# Introduction\n",
    "\n",
    "The objective of this analysis is to study the distribution of network jitter in Tor entry guards. Some nodes might have a significantly large jitter than the average. We believe that in those cases, website fingerprinting may have lower effectiveness than in the entry guards with low jitter. The rationale is that even if the entry to guard TCP connection is independent of the website, the interaction between the page structure (HTTP request/response pattern) and the jitter, may make the fingerprint less reliable than in low-jitter guards."
   ]
  },
  {
   "cell_type": "code",
   "execution_count": 17,
   "metadata": {
    "collapsed": false
   },
   "outputs": [],
   "source": [
    "%matplotlib inline\n",
    "from os import listdir\n",
    "from os.path import join, dirname, realpath, isdir, getmtime\n",
    "from glob import glob\n",
    "\n",
    "import numpy as np\n",
    "import pandas as pd\n",
    "\n",
    "import matplotlib as mpl\n",
    "import matplotlib.pyplot as plt\n",
    "mpl.style.use('ggplot')\n",
    "\n",
    "from IPython.display import HTML\n",
    "from IPython.core.interactiveshell import InteractiveShell\n",
    "\n",
    "# Notebook config\n",
    "InteractiveShell.ast_node_interactivity = \"all\""
   ]
  },
  {
   "cell_type": "code",
   "execution_count": 18,
   "metadata": {
    "collapsed": false
   },
   "outputs": [
    {
     "data": {
      "text/html": [
       "<script>\n",
       "code_show=true; \n",
       "function code_toggle() {\n",
       " document.title = 'Variance analysis';\n",
       " code_show = !code_show\n",
       " var divs = document.getElementsByClassName('input');\n",
       " var divs = document.getElementsByClassName('input');\n",
       " if (code_show){\n",
       "   for (var i in divs) {\n",
       "     if (typeof divs[i] != 'undefined') {\n",
       "       divs[i].style.display = 'block';\n",
       "     } \n",
       "   }\n",
       " } else {\n",
       "   for (var i in divs) {\n",
       "     if (typeof divs[i] != 'undefined') {\n",
       "       divs[i].style.display = 'none';\n",
       "     } \n",
       "   }\n",
       " }\n",
       "} \n",
       "\n",
       "document.addEventListener(\"DOMContentLoaded\", function(event) { \n",
       "  code_toggle()\n",
       "});\n",
       "</script>\n",
       "<form action=\"javascript:code_toggle()\"><input type=\"submit\" value=\"Click here to toggle on/off the raw code.\"></form>"
      ],
      "text/plain": [
       "<IPython.core.display.HTML object>"
      ]
     },
     "execution_count": 18,
     "metadata": {},
     "output_type": "execute_result"
    }
   ],
   "source": [
    "# button to toggle code\n",
    "\n",
    "HTML('''<script>\n",
    "code_show=true; \n",
    "function code_toggle() {\n",
    " document.title = 'Variance analysis';\n",
    " code_show = !code_show\n",
    " var divs = document.getElementsByClassName('input');\n",
    " var divs = document.getElementsByClassName('input');\n",
    " if (code_show){\n",
    "   for (var i in divs) {\n",
    "     if (typeof divs[i] != 'undefined') {\n",
    "       divs[i].style.display = 'block';\n",
    "     } \n",
    "   }\n",
    " } else {\n",
    "   for (var i in divs) {\n",
    "     if (typeof divs[i] != 'undefined') {\n",
    "       divs[i].style.display = 'none';\n",
    "     } \n",
    "   }\n",
    " }\n",
    "} \n",
    "\n",
    "document.addEventListener(\"DOMContentLoaded\", function(event) { \n",
    "  code_toggle()\n",
    "});\n",
    "</script>\n",
    "<form action=\"javascript:code_toggle()\"><input type=\"submit\" value=\"Click here to toggle on/off the raw code.\"></form>''')"
   ]
  },
  {
   "cell_type": "code",
   "execution_count": 19,
   "metadata": {
    "collapsed": false
   },
   "outputs": [
    {
     "name": "stdout",
     "output_type": "stream",
     "text": [
      "/home/mjuarezm/git/entrystats/results/tmp\n"
     ]
    }
   ],
   "source": [
    "# directories\n",
    "BASE_DIR = dirname(realpath(\"__file__\"))\n",
    "RESULTS_DIR = join(BASE_DIR, 'results')\n",
    "LATEST_DIR = max([join(RESULTS_DIR, d) for d in listdir(RESULTS_DIR)\n",
    "                  if isdir(join(RESULTS_DIR, d))], key=getmtime)\n",
    "print LATEST_DIR\n",
    "\n",
    "# globals\n",
    "CSV_NAMES = [\"ip_proto\", \"epoch\",\n",
    "             \"ip_src\", \"ip_dst\", \"port_src\", \"port_dst\",\n",
    "             \"ip_len\", \"ip_hdr_len\", \"tcp_hdr_len\", \"data_len\",\n",
    "             \"tcp_flags\", \"tcp_seq\", \"tcp_ack\", \"next_seq\", \"acks_frame\",\n",
    "             \"tcp_window_size_value\", \"ws_message\",\n",
    "             \"tcp_options_tsval\", \"tcp_options_tsecr\"]"
   ]
  },
  {
   "cell_type": "code",
   "execution_count": 20,
   "metadata": {
    "collapsed": false
   },
   "outputs": [],
   "source": [
    "# get filenames\n",
    "stat_files = {}\n",
    "for fname in listdir(LATEST_DIR):\n",
    "    if fname not in stat_files:\n",
    "        key = fname.split('_')[0]\n",
    "        stat_files[key] = glob(join(LATEST_DIR, key + '*'))\n",
    "\n",
    "guards = len(stat_files)\n",
    "avg_samples = np.mean([len(l) for l in stat_files.itervalues()])"
   ]
  },
  {
   "cell_type": "markdown",
   "metadata": {},
   "source": [
    "## Collected data\n",
    "\n",
    "\n",
    "For our data collection, we make a TCP connection to the guard's OR port and record all the traffic that is generated. In total, we have collected:"
   ]
  },
  {
   "cell_type": "code",
   "execution_count": 21,
   "metadata": {
    "collapsed": false
   },
   "outputs": [
    {
     "name": "stdout",
     "output_type": "stream",
     "text": [
      "- Data for 1 entry guards\n",
      "- An average of 1 samples for each entry guard.\n"
     ]
    }
   ],
   "source": [
    "print \"- Data for\", guards, \"entry guards\"\n",
    "print \"- An average of\", int(avg_samples), \"samples for each entry guard.\""
   ]
  },
  {
   "cell_type": "markdown",
   "metadata": {
    "variables": {
     "guards": "426",
     "int(avg_samples)": "1"
    }
   },
   "source": [
    "This is how the dataset looks like:"
   ]
  },
  {
   "cell_type": "code",
   "execution_count": 22,
   "metadata": {
    "code_folding": [],
    "collapsed": false
   },
   "outputs": [
    {
     "data": {
      "text/html": [
       "<div>\n",
       "<table border=\"1\" class=\"dataframe\">\n",
       "  <thead>\n",
       "    <tr style=\"text-align: right;\">\n",
       "      <th></th>\n",
       "      <th>entry</th>\n",
       "      <th>sample</th>\n",
       "      <th>ip_proto</th>\n",
       "      <th>epoch</th>\n",
       "      <th>ip_src</th>\n",
       "      <th>ip_dst</th>\n",
       "      <th>port_src</th>\n",
       "      <th>port_dst</th>\n",
       "      <th>ip_len</th>\n",
       "      <th>ip_hdr_len</th>\n",
       "      <th>...</th>\n",
       "      <th>data_len</th>\n",
       "      <th>tcp_flags</th>\n",
       "      <th>tcp_seq</th>\n",
       "      <th>tcp_ack</th>\n",
       "      <th>next_seq</th>\n",
       "      <th>acks_frame</th>\n",
       "      <th>tcp_window_size_value</th>\n",
       "      <th>ws_message</th>\n",
       "      <th>tcp_options_tsval</th>\n",
       "      <th>tcp_options_tsecr</th>\n",
       "    </tr>\n",
       "  </thead>\n",
       "  <tbody>\n",
       "    <tr>\n",
       "      <th>1</th>\n",
       "      <td>372082F3E01DE6A6333D30329C6903A19D0E8E87</td>\n",
       "      <td>0</td>\n",
       "      <td>6</td>\n",
       "      <td>1.485904e+09</td>\n",
       "      <td>176.192.193.151</td>\n",
       "      <td>172.17.0.2</td>\n",
       "      <td>9001</td>\n",
       "      <td>46816</td>\n",
       "      <td>60</td>\n",
       "      <td>5</td>\n",
       "      <td>...</td>\n",
       "      <td>NaN</td>\n",
       "      <td>18</td>\n",
       "      <td>834426268</td>\n",
       "      <td>1172312813</td>\n",
       "      <td>NaN</td>\n",
       "      <td>1.0</td>\n",
       "      <td>28960</td>\n",
       "      <td>Connection establish acknowledge (SYN+ACK): se...</td>\n",
       "      <td>470278209</td>\n",
       "      <td>1603476123</td>\n",
       "    </tr>\n",
       "    <tr>\n",
       "      <th>2</th>\n",
       "      <td>372082F3E01DE6A6333D30329C6903A19D0E8E87</td>\n",
       "      <td>0</td>\n",
       "      <td>6</td>\n",
       "      <td>1.485904e+09</td>\n",
       "      <td>172.17.0.2</td>\n",
       "      <td>176.192.193.151</td>\n",
       "      <td>46816</td>\n",
       "      <td>9001</td>\n",
       "      <td>52</td>\n",
       "      <td>5</td>\n",
       "      <td>...</td>\n",
       "      <td>NaN</td>\n",
       "      <td>16</td>\n",
       "      <td>1172312813</td>\n",
       "      <td>834426269</td>\n",
       "      <td>NaN</td>\n",
       "      <td>2.0</td>\n",
       "      <td>229</td>\n",
       "      <td>NaN</td>\n",
       "      <td>1603476139</td>\n",
       "      <td>470278209</td>\n",
       "    </tr>\n",
       "    <tr>\n",
       "      <th>3</th>\n",
       "      <td>372082F3E01DE6A6333D30329C6903A19D0E8E87</td>\n",
       "      <td>0</td>\n",
       "      <td>6</td>\n",
       "      <td>1.485904e+09</td>\n",
       "      <td>172.17.0.2</td>\n",
       "      <td>176.192.193.151</td>\n",
       "      <td>46816</td>\n",
       "      <td>9001</td>\n",
       "      <td>52</td>\n",
       "      <td>5</td>\n",
       "      <td>...</td>\n",
       "      <td>NaN</td>\n",
       "      <td>17</td>\n",
       "      <td>1172312813</td>\n",
       "      <td>834426269</td>\n",
       "      <td>NaN</td>\n",
       "      <td>NaN</td>\n",
       "      <td>229</td>\n",
       "      <td>Connection finish (FIN)</td>\n",
       "      <td>1603476139</td>\n",
       "      <td>470278209</td>\n",
       "    </tr>\n",
       "    <tr>\n",
       "      <th>4</th>\n",
       "      <td>372082F3E01DE6A6333D30329C6903A19D0E8E87</td>\n",
       "      <td>0</td>\n",
       "      <td>6</td>\n",
       "      <td>1.485904e+09</td>\n",
       "      <td>176.192.193.151</td>\n",
       "      <td>172.17.0.2</td>\n",
       "      <td>9001</td>\n",
       "      <td>46816</td>\n",
       "      <td>52</td>\n",
       "      <td>5</td>\n",
       "      <td>...</td>\n",
       "      <td>NaN</td>\n",
       "      <td>17</td>\n",
       "      <td>834426269</td>\n",
       "      <td>1172312814</td>\n",
       "      <td>NaN</td>\n",
       "      <td>4.0</td>\n",
       "      <td>227</td>\n",
       "      <td>Connection finish (FIN)</td>\n",
       "      <td>470278228</td>\n",
       "      <td>1603476139</td>\n",
       "    </tr>\n",
       "    <tr>\n",
       "      <th>5</th>\n",
       "      <td>372082F3E01DE6A6333D30329C6903A19D0E8E87</td>\n",
       "      <td>0</td>\n",
       "      <td>6</td>\n",
       "      <td>1.485904e+09</td>\n",
       "      <td>172.17.0.2</td>\n",
       "      <td>176.192.193.151</td>\n",
       "      <td>46816</td>\n",
       "      <td>9001</td>\n",
       "      <td>52</td>\n",
       "      <td>5</td>\n",
       "      <td>...</td>\n",
       "      <td>NaN</td>\n",
       "      <td>16</td>\n",
       "      <td>1172312814</td>\n",
       "      <td>834426270</td>\n",
       "      <td>NaN</td>\n",
       "      <td>5.0</td>\n",
       "      <td>229</td>\n",
       "      <td>NaN</td>\n",
       "      <td>1603476156</td>\n",
       "      <td>470278228</td>\n",
       "    </tr>\n",
       "  </tbody>\n",
       "</table>\n",
       "<p>5 rows × 21 columns</p>\n",
       "</div>"
      ],
      "text/plain": [
       "                                      entry  sample  ip_proto         epoch  \\\n",
       "1  372082F3E01DE6A6333D30329C6903A19D0E8E87       0         6  1.485904e+09   \n",
       "2  372082F3E01DE6A6333D30329C6903A19D0E8E87       0         6  1.485904e+09   \n",
       "3  372082F3E01DE6A6333D30329C6903A19D0E8E87       0         6  1.485904e+09   \n",
       "4  372082F3E01DE6A6333D30329C6903A19D0E8E87       0         6  1.485904e+09   \n",
       "5  372082F3E01DE6A6333D30329C6903A19D0E8E87       0         6  1.485904e+09   \n",
       "\n",
       "            ip_src           ip_dst  port_src  port_dst  ip_len  ip_hdr_len  \\\n",
       "1  176.192.193.151       172.17.0.2      9001     46816      60           5   \n",
       "2       172.17.0.2  176.192.193.151     46816      9001      52           5   \n",
       "3       172.17.0.2  176.192.193.151     46816      9001      52           5   \n",
       "4  176.192.193.151       172.17.0.2      9001     46816      52           5   \n",
       "5       172.17.0.2  176.192.193.151     46816      9001      52           5   \n",
       "\n",
       "         ...          data_len  tcp_flags     tcp_seq     tcp_ack  next_seq  \\\n",
       "1        ...               NaN         18   834426268  1172312813       NaN   \n",
       "2        ...               NaN         16  1172312813   834426269       NaN   \n",
       "3        ...               NaN         17  1172312813   834426269       NaN   \n",
       "4        ...               NaN         17   834426269  1172312814       NaN   \n",
       "5        ...               NaN         16  1172312814   834426270       NaN   \n",
       "\n",
       "   acks_frame  tcp_window_size_value  \\\n",
       "1         1.0                  28960   \n",
       "2         2.0                    229   \n",
       "3         NaN                    229   \n",
       "4         4.0                    227   \n",
       "5         5.0                    229   \n",
       "\n",
       "                                          ws_message tcp_options_tsval  \\\n",
       "1  Connection establish acknowledge (SYN+ACK): se...         470278209   \n",
       "2                                                NaN        1603476139   \n",
       "3                            Connection finish (FIN)        1603476139   \n",
       "4                            Connection finish (FIN)         470278228   \n",
       "5                                                NaN        1603476156   \n",
       "\n",
       "   tcp_options_tsecr  \n",
       "1         1603476123  \n",
       "2          470278209  \n",
       "3          470278209  \n",
       "4         1603476139  \n",
       "5          470278228  \n",
       "\n",
       "[5 rows x 21 columns]"
      ]
     },
     "execution_count": 22,
     "metadata": {},
     "output_type": "execute_result"
    }
   ],
   "source": [
    "# load data in a dataframe\n",
    "dfs = []\n",
    "for k, l in stat_files.iteritems():\n",
    "    for i, fpath in enumerate(l):\n",
    "        df = pd.read_csv(fpath, names=CSV_NAMES)\n",
    "        df['tcp_flags'] = df['tcp_flags'].apply(lambda s: int(s, 0))\n",
    "        df['entry'] = k\n",
    "        df['sample'] = i\n",
    "        dfs.append(df)\n",
    "data = pd.concat(dfs)\n",
    "data[['entry', 'sample'] + [c for c in data.columns if c != 'entry' and c != 'sample']].tail()"
   ]
  },
  {
   "cell_type": "markdown",
   "metadata": {},
   "source": [
    "## Latency\n",
    "\n",
    "From the traffic traces collected for the TCP connections to the guards, we extract the first SYN+ACK packet (if any) and its corresponding SYN packet. Next, we substract the SYN timestamp to the SYN+ACK timestamp to obtain a measurement of the latency to a guard.\n",
    "\n",
    "This is the dataset of latencies:"
   ]
  },
  {
   "cell_type": "code",
   "execution_count": 23,
   "metadata": {
    "collapsed": false
   },
   "outputs": [],
   "source": [
    "def latency(d):\n",
    "    \"\"\"Return difference between first syn+ack and its corresponding syn.\"\"\"\n",
    "    syn_acks = d[(np.isnan(d['data_len'])) & (d['tcp_flags'] == 18)]\n",
    "    if len(syn_acks) == 0:\n",
    "        return np.nan\n",
    "    syn_ack = syn_acks.head(1).iloc[0]\n",
    "    syn_seq = syn_ack['tcp_ack'] - 1\n",
    "    syns = d[(d['tcp_flags'] == 2) & (d['tcp_seq'] == syn_seq)]\n",
    "    if len(syns) == 0:\n",
    "        return np.nan\n",
    "    syn = syns.head(1).iloc[0]\n",
    "    return syn_ack['epoch'] - syn['epoch']\n",
    "    \n",
    "def latencies(data):\n",
    "    \"\"\"Compute latencies for all samples in the dataframe.\"\"\"\n",
    "    return data.groupby(['entry', 'sample']).apply(latency).reset_index(name='latency')\n",
    "\n",
    "def jitter(latencies):\n",
    "    \"\"\"Compute jitter for latency data.\"\"\"\n",
    "    return latencies['latency']"
   ]
  },
  {
   "cell_type": "code",
   "execution_count": 24,
   "metadata": {
    "collapsed": false,
    "scrolled": true
   },
   "outputs": [
    {
     "data": {
      "text/html": [
       "<div>\n",
       "<table border=\"1\" class=\"dataframe\">\n",
       "  <thead>\n",
       "    <tr style=\"text-align: right;\">\n",
       "      <th></th>\n",
       "      <th>entry</th>\n",
       "      <th>sample</th>\n",
       "      <th>latency</th>\n",
       "    </tr>\n",
       "  </thead>\n",
       "  <tbody>\n",
       "    <tr>\n",
       "      <th>0</th>\n",
       "      <td>372082F3E01DE6A6333D30329C6903A19D0E8E87</td>\n",
       "      <td>0</td>\n",
       "      <td>0.064709</td>\n",
       "    </tr>\n",
       "  </tbody>\n",
       "</table>\n",
       "</div>"
      ],
      "text/plain": [
       "                                      entry  sample   latency\n",
       "0  372082F3E01DE6A6333D30329C6903A19D0E8E87       0  0.064709"
      ]
     },
     "execution_count": 24,
     "metadata": {},
     "output_type": "execute_result"
    }
   ],
   "source": [
    "lats = latencies(data).dropna()\n",
    "lats.head()"
   ]
  },
  {
   "cell_type": "markdown",
   "metadata": {
    "collapsed": false
   },
   "source": [
    "We extract some basic statistics about the latencies:"
   ]
  },
  {
   "cell_type": "code",
   "execution_count": 25,
   "metadata": {
    "collapsed": false
   },
   "outputs": [
    {
     "data": {
      "text/html": [
       "<div>\n",
       "<table border=\"1\" class=\"dataframe\">\n",
       "  <thead>\n",
       "    <tr style=\"text-align: right;\">\n",
       "      <th></th>\n",
       "      <th>sample</th>\n",
       "      <th>latency</th>\n",
       "    </tr>\n",
       "  </thead>\n",
       "  <tbody>\n",
       "    <tr>\n",
       "      <th>count</th>\n",
       "      <td>1.0</td>\n",
       "      <td>1.000000</td>\n",
       "    </tr>\n",
       "    <tr>\n",
       "      <th>mean</th>\n",
       "      <td>0.0</td>\n",
       "      <td>0.064709</td>\n",
       "    </tr>\n",
       "    <tr>\n",
       "      <th>std</th>\n",
       "      <td>NaN</td>\n",
       "      <td>NaN</td>\n",
       "    </tr>\n",
       "    <tr>\n",
       "      <th>min</th>\n",
       "      <td>0.0</td>\n",
       "      <td>0.064709</td>\n",
       "    </tr>\n",
       "    <tr>\n",
       "      <th>25%</th>\n",
       "      <td>0.0</td>\n",
       "      <td>0.064709</td>\n",
       "    </tr>\n",
       "    <tr>\n",
       "      <th>50%</th>\n",
       "      <td>0.0</td>\n",
       "      <td>0.064709</td>\n",
       "    </tr>\n",
       "    <tr>\n",
       "      <th>75%</th>\n",
       "      <td>0.0</td>\n",
       "      <td>0.064709</td>\n",
       "    </tr>\n",
       "    <tr>\n",
       "      <th>max</th>\n",
       "      <td>0.0</td>\n",
       "      <td>0.064709</td>\n",
       "    </tr>\n",
       "  </tbody>\n",
       "</table>\n",
       "</div>"
      ],
      "text/plain": [
       "       sample   latency\n",
       "count     1.0  1.000000\n",
       "mean      0.0  0.064709\n",
       "std       NaN       NaN\n",
       "min       0.0  0.064709\n",
       "25%       0.0  0.064709\n",
       "50%       0.0  0.064709\n",
       "75%       0.0  0.064709\n",
       "max       0.0  0.064709"
      ]
     },
     "execution_count": 25,
     "metadata": {},
     "output_type": "execute_result"
    }
   ],
   "source": [
    "lats.describe()"
   ]
  },
  {
   "cell_type": "markdown",
   "metadata": {
    "collapsed": true
   },
   "source": [
    "We plot the histogram of latencies:"
   ]
  },
  {
   "cell_type": "code",
   "execution_count": 26,
   "metadata": {
    "collapsed": false
   },
   "outputs": [
    {
     "data": {
      "text/plain": [
       "<matplotlib.axes._subplots.AxesSubplot at 0x7f5e5f481a90>"
      ]
     },
     "execution_count": 26,
     "metadata": {},
     "output_type": "execute_result"
    },
    {
     "data": {
      "text/plain": [
       "<matplotlib.axes._subplots.AxesSubplot at 0x7f5e5f24aad0>"
      ]
     },
     "execution_count": 26,
     "metadata": {},
     "output_type": "execute_result"
    },
    {
     "data": {
      "image/png": "[encoded data removed]",
      "text/plain": [
       "<matplotlib.figure.Figure at 0x7f5e5f462dd0>"
      ]
     },
     "metadata": {},
     "output_type": "display_data"
    }
   ],
   "source": [
    "fig, (ax1, ax2) = plt.subplots(nrows=1, ncols=2)\n",
    "lats['latency'].plot(kind='hist', bins=20, ax=ax1, figsize=(10, 3), title=\"Entry latency\")\n",
    "lats['latency'].apply(np.log).plot(kind='hist', bins=20, ax=ax2, figsize=(10, 3), title=\"Entry altency (log scale)\")"
   ]
  },
  {
   "cell_type": "markdown",
   "metadata": {
    "collapsed": true
   },
   "source": [
    "## Jitter measurments"
   ]
  },
  {
   "cell_type": "code",
   "execution_count": 27,
   "metadata": {
    "collapsed": true
   },
   "outputs": [],
   "source": [
    "# TODO"
   ]
  },
  {
   "cell_type": "code",
   "execution_count": null,
   "metadata": {
    "collapsed": true
   },
   "outputs": [],
   "source": []
  }
 ],
 "metadata": {
  "kernelspec": {
   "display_name": "Python 2",
   "language": "python",
   "name": "python2"
  },
  "language_info": {
   "codemirror_mode": {
    "name": "ipython",
    "version": 2
   },
   "file_extension": ".py",
   "mimetype": "text/x-python",
   "name": "python",
   "nbconvert_exporter": "python",
   "pygments_lexer": "ipython2",
   "version": "2.7.12"
  },
  "latex_envs": {
   "bibliofile": "biblio.bib",
   "cite_by": "apalike",
   "current_citInitial": 1,
   "eqLabelWithNumbers": true,
   "eqNumInitial": 0
  },
  "toc": {
   "toc_cell": true,
   "toc_number_sections": true,
   "toc_threshold": 6,
   "toc_window_display": false
  }
 },
 "nbformat": 4,
 "nbformat_minor": 0
}
