{
 "cells": [
  {
   "cell_type": "markdown",
   "metadata": {
    "toc": "true"
   },
   "source": [
    "<h1 id=\"tocheading\">Table of Contents</h1>\n",
    "<div id=\"toc\"></div>"
   ]
  },
  {
   "cell_type": "code",
   "execution_count": null,
   "metadata": {
    "collapsed": false
   },
   "outputs": [],
   "source": [
    "%%javascript\n",
    "$.getScript('https://kmahelona.github.io/ipython_notebook_goodies/ipython_notebook_toc.js')"
   ]
  },
  {
   "cell_type": "code",
   "execution_count": null,
   "metadata": {
    "collapsed": true
   },
   "outputs": [],
   "source": [
    "%matplotlib inline\n",
    "from IPython.display import HTML\n",
    "from IPython.core.interactiveshell import InteractiveShell\n",
    "\n",
    "# Notebook config\n",
    "InteractiveShell.ast_node_interactivity = \"all\""
   ]
  },
  {
   "cell_type": "code",
   "execution_count": null,
   "metadata": {
    "collapsed": false
   },
   "outputs": [],
   "source": [
    "# button to toggle code\n",
    "HTML('''<script>code_show=true; function code_toggle() {if (code_show){$('div.input').hide();} else {$('div.input').show();} code_show = !code_show} $( document ).ready(code_toggle);</script>\n",
    "<form action=\"javascript:code_toggle()\"><input type=\"submit\" value=\"Click here to toggle on/off the raw code.\"></form>''')"
   ]
  },
  {
   "cell_type": "markdown",
   "metadata": {},
   "source": [
    "# Introduction\n",
    "\n",
    "The objective of this analysis is to study the distribution of network jitter in Tor entry guards. Some nodes might have a significantly large jitter than the average. We believe that in those cases, website fingerprinting may have lower effectiveness than in the entry guards with low jitter. The rationale is that even if the entry to guard TCP connection is independent of the website, the interaction between the page structure (HTTP request/response pattern) and the jitter, may make the fingerprint less reliable than in low-jitter guards."
   ]
  },
  {
   "cell_type": "code",
   "execution_count": null,
   "metadata": {
    "collapsed": false
   },
   "outputs": [],
   "source": [
    "import re\n",
    "from os import listdir\n",
    "from os.path import join, dirname, realpath, isdir, getmtime, splitext\n",
    "from glob import glob\n",
    "\n",
    "import numpy as np\n",
    "import pandas as pd\n",
    "\n",
    "import matplotlib as mpl\n",
    "import matplotlib.pyplot as plt\n",
    "mpl.style.use('ggplot')\n",
    "\n",
    "# directories\n",
    "BASE_DIR = dirname(realpath(\"__file__\"))\n",
    "RESULTS_DIR = join(BASE_DIR, 'results')\n",
    "LATEST_FILE = max([join(RESULTS_DIR, d) for d in listdir(RESULTS_DIR)], key=getmtime)\n",
    "LATEST_DATA = '%s.csv' % splitext(LATEST_FILE)[0]"
   ]
  },
  {
   "cell_type": "code",
   "execution_count": null,
   "metadata": {
    "collapsed": false
   },
   "outputs": [],
   "source": [
    "# URLs\n",
    "ATLAS = '<a href=\"https://atlas.torproject.org/#search/{fp}\" target=\"_blank\">{fp}</a>'\n",
    "\n",
    "def fp2url(df):\n",
    "    \"\"\"Convert guard fingerprints to links to Tor Atlas.\"\"\"\n",
    "    fp_re = re.compile(r\"([A-F0-9]{40})\", re.MULTILINE | re.UNICODE)\n",
    "    def repl_fp(match):\n",
    "        match = match.group()\n",
    "        return ATLAS.format(fp=match)\n",
    "    return fp_re.sub(repl_fp, df.to_html())"
   ]
  },
  {
   "cell_type": "markdown",
   "metadata": {},
   "source": [
    "# Collected data\n",
    "\n",
    "\n",
    "For our data collection, we make a TCP connection to the guard's OR port and record all the traffic that is generated. In total, we have collected:"
   ]
  },
  {
   "cell_type": "code",
   "execution_count": null,
   "metadata": {
    "collapsed": false
   },
   "outputs": [],
   "source": [
    "# load data\n",
    "data = pd.read_csv(join(LATEST_DATA))\n",
    "\n",
    "num_samples = len(data)\n",
    "print \"- Total num samples:\", num_samples\n",
    "\n",
    "guards = data.groupby(['guard_fp'])['guard_fp'].count()\n",
    "num_guards = len(guards)\n",
    "print \"- Found data for\", num_guards, \"entry guards\"\n",
    "\n",
    "avg_num_samples_per_guard = guards.mean()\n",
    "print \"- An average of\", int(avg_num_samples_per_guard), \"samples for each entry guard.\""
   ]
  },
  {
   "cell_type": "markdown",
   "metadata": {
    "variables": {
     "guards": "426",
     "int(avg_samples)": "1"
    }
   },
   "source": [
    "This is how the dataset looks like:"
   ]
  },
  {
   "cell_type": "code",
   "execution_count": null,
   "metadata": {
    "code_folding": [],
    "collapsed": false
   },
   "outputs": [],
   "source": [
    "# load data in a dataframe\n",
    "data.head()"
   ]
  },
  {
   "cell_type": "markdown",
   "metadata": {},
   "source": [
    "# Latency\n",
    "\n",
    "From the traffic traces collected for the TCP connections to the guards, we extract the first SYN+ACK packet (if any) and its corresponding SYN packet. Next, we substract the SYN timestamp to the SYN+ACK timestamp to obtain a measurement of the latency to a guard.\n",
    "\n",
    "We extract some basic statistics about the latencies:"
   ]
  },
  {
   "cell_type": "code",
   "execution_count": null,
   "metadata": {
    "collapsed": false
   },
   "outputs": [],
   "source": [
    "data['latency'].describe()"
   ]
  },
  {
   "cell_type": "markdown",
   "metadata": {
    "collapsed": true
   },
   "source": [
    "We plot the histogram of latencies:"
   ]
  },
  {
   "cell_type": "code",
   "execution_count": null,
   "metadata": {
    "collapsed": false
   },
   "outputs": [],
   "source": [
    "fig, (ax1, ax2) = plt.subplots(nrows=1, ncols=2)\n",
    "mean_latencies = data.groupby(['guard_fp']).latency.mean().reset_index(name='mean_latency')\n",
    "mean_latencies['mean_latency'].plot(kind='hist', bins=100, xlim=(0, 0.25), ax=ax1, figsize=(10, 3), title=\"Entry mean latency\");\n",
    "mean_latencies['mean_latency'].apply(np.log).plot(kind='hist', bins=20, ax=ax2, figsize=(10, 3), title=\"Entry mean latency (log scale)\");"
   ]
  },
  {
   "cell_type": "markdown",
   "metadata": {},
   "source": [
    "Top entries by average latency:"
   ]
  },
  {
   "cell_type": "code",
   "execution_count": null,
   "metadata": {
    "collapsed": false
   },
   "outputs": [],
   "source": [
    "top_lat = mean_latencies.sort_values(['mean_latency'], ascending=False).head()\n",
    "HTML(fp2url(top_lat))"
   ]
  },
  {
   "cell_type": "markdown",
   "metadata": {
    "collapsed": true
   },
   "source": [
    "# Jitter\n",
    "\n",
    "We measure jitter of a node as the variance of the node's latency. We can calculate the variance because we take several samples for each node."
   ]
  },
  {
   "cell_type": "code",
   "execution_count": null,
   "metadata": {
    "collapsed": false
   },
   "outputs": [],
   "source": [
    "# compute jitter\n",
    "jitters = data.groupby(['guard_fp']).latency.std().reset_index(name='jitter')\n",
    "entry_stats = pd.merge(mean_latencies, jitters, on='guard_fp')\n",
    "\n",
    "# plot histograms\n",
    "fig, (ax1, ax2) = plt.subplots(nrows=1, ncols=2)\n",
    "entry_stats['jitter'].plot(kind='hist', bins=250, xlim=(0, 0.05), ax=ax1, figsize=(10, 3), title=\"Entry jitter\");\n",
    "entry_stats['jitter'].apply(np.log).plot(kind='hist', bins=20, ax=ax2, figsize=(10, 3), title=\"Entry jitter (log scale)\");"
   ]
  },
  {
   "cell_type": "markdown",
   "metadata": {},
   "source": [
    "Top entries by jitter:"
   ]
  },
  {
   "cell_type": "code",
   "execution_count": null,
   "metadata": {
    "collapsed": false
   },
   "outputs": [],
   "source": [
    "top_jitter = entry_stats.sort_values(['jitter'], ascending=False).head()\n",
    "HTML(fp2url(top_jitter))"
   ]
  }
 ],
 "metadata": {
  "kernelspec": {
   "display_name": "Python 2",
   "language": "python",
   "name": "python2"
  },
  "language_info": {
   "codemirror_mode": {
    "name": "ipython",
    "version": 2
   },
   "file_extension": ".py",
   "mimetype": "text/x-python",
   "name": "python",
   "nbconvert_exporter": "python",
   "pygments_lexer": "ipython2",
   "version": "2.7.9"
  },
  "latex_envs": {
   "bibliofile": "biblio.bib",
   "cite_by": "apalike",
   "current_citInitial": 1,
   "eqLabelWithNumbers": true,
   "eqNumInitial": 0
  },
  "toc": {
   "toc_cell": true,
   "toc_number_sections": true,
   "toc_threshold": 6,
   "toc_window_display": false
  }
 },
 "nbformat": 4,
 "nbformat_minor": 0
}
