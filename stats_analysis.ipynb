{
 "cells": [
  {
   "cell_type": "code",
   "execution_count": null,
   "metadata": {
    "collapsed": false
   },
   "outputs": [],
   "source": [
    "%%javascript\n",
    "$.getScript('http://homes.esat.kuleuven.be/~mjuarezm/ipy_toc.js')"
   ]
  },
  {
   "cell_type": "markdown",
   "metadata": {
    "toc": "true"
   },
   "source": [
    "<h1 id=\"tocheading\">Table of Contents</h1>\n",
    "<div id=\"toc\"></div>"
   ]
  },
  {
   "cell_type": "code",
   "execution_count": null,
   "metadata": {
    "collapsed": false
   },
   "outputs": [],
   "source": [
    "# ipy imports\n",
    "%matplotlib inline\n",
    "%load_ext rpy2.ipython\n",
    "from IPython.display import HTML\n",
    "from IPython.core.interactiveshell import InteractiveShell\n",
    "\n",
    "# Notebook config\n",
    "InteractiveShell.ast_node_interactivity = \"all\""
   ]
  },
  {
   "cell_type": "code",
   "execution_count": null,
   "metadata": {
    "collapsed": false
   },
   "outputs": [],
   "source": [
    "%%R\n",
    "# R dependencies\n",
    "suppressPackageStartupMessages({\n",
    "    library(\"ggplot2\")\n",
    "    library(\"gridExtra\")\n",
    "})"
   ]
  },
  {
   "cell_type": "code",
   "execution_count": null,
   "metadata": {
    "collapsed": false
   },
   "outputs": [],
   "source": [
    "# button to toggle code\n",
    "HTML('''<form action=\"javascript:code_toggle()\">\n",
    "            <input type=\"submit\" value=\"Toggle cells\">\n",
    "        </form>\n",
    "     ''')"
   ]
  },
  {
   "cell_type": "markdown",
   "metadata": {},
   "source": [
    "# Introduction\n",
    "\n",
    "The objective of this analysis is to study the distribution of network jitter in Tor nodes. Some nodes might have a significantly large jitter than the average. We believe that in those cases, website fingerprinting may have lower effectiveness than in the nodes with low jitter. The rationale is that even if the Tor path is independent of the website, the interaction between the page structure (HTTP request/response pattern) and the jitter, may make the fingerprint less reliable than in high-jitter paths."
   ]
  },
  {
   "cell_type": "code",
   "execution_count": null,
   "metadata": {
    "collapsed": false
   },
   "outputs": [],
   "source": [
    "import re\n",
    "from os import listdir\n",
    "from os.path import join, dirname, realpath, isdir, getmtime, splitext\n",
    "from glob import glob\n",
    "\n",
    "import numpy as np\n",
    "import pandas as pd\n",
    "\n",
    "import matplotlib as mpl\n",
    "import matplotlib.pyplot as plt\n",
    "mpl.style.use('ggplot')\n",
    "\n",
    "from ggplot import *\n",
    "\n",
    "# directories\n",
    "BASE_DIR = dirname(realpath(\"__file__\"))\n",
    "RESULTS_DIR = join(BASE_DIR, 'results')\n",
    "LATEST_FILE = max([join(RESULTS_DIR, d)\n",
    "                   for d in listdir(RESULTS_DIR)], key=getmtime)\n",
    "LATEST_DATA = '%s.csv' % splitext(LATEST_FILE)[0]"
   ]
  },
  {
   "cell_type": "code",
   "execution_count": null,
   "metadata": {
    "collapsed": false
   },
   "outputs": [],
   "source": [
    "# URLs\n",
    "ATLAS = '<a href=\"https://atlas.torproject.org/#details/{fp}\" target=\"_blank\">{fp}</a>'\n",
    "\n",
    "def fp2url(df):\n",
    "    \"\"\"Convert node fingerprints to links to Tor Atlas.\"\"\"\n",
    "    fp_re = re.compile(r\"([A-F0-9]{40})\", re.MULTILINE | re.UNICODE)\n",
    "    def repl_fp(match):\n",
    "        match = match.group()\n",
    "        return ATLAS.format(fp=match)\n",
    "    return fp_re.sub(repl_fp, df.to_html())"
   ]
  },
  {
   "cell_type": "markdown",
   "metadata": {},
   "source": [
    "# Data collection\n",
    "\n",
    "\n",
    " To collect a latency sample, we make a TCP connection to the node's OR port and record the SYN and SYN+ACK packets. We have collected the latency dataset in batches, that is iterating over the whole list of nodes multiple times and taking several samples of each node in each iteration. This allows to obtain a more reliable estimate of the latency at a fixed time and obtain estimates of the latency at different times."
   ]
  },
  {
   "cell_type": "code",
   "execution_count": null,
   "metadata": {
    "collapsed": false
   },
   "outputs": [],
   "source": [
    "# load data\n",
    "data = pd.read_csv(join(LATEST_DATA))"
   ]
  },
  {
   "cell_type": "markdown",
   "metadata": {},
   "source": [
    " In total, we have collected:"
   ]
  },
  {
   "cell_type": "code",
   "execution_count": null,
   "metadata": {
    "collapsed": true
   },
   "outputs": [],
   "source": [
    "# get stats for each sample batch\n",
    "batches = data.groupby(['batch_id', 'fp'])\n",
    "\n",
    "# get median latency per batch\n",
    "batch_med_lat = batches['latency'].median().reset_index()\n",
    "\n",
    "# get standard deviation of latency per batch\n",
    "batch_std_lat = batches['latency'].std().reset_index()\n",
    "\n",
    "# get median latency per node\n",
    "node_med_lat = batch_med_lat.groupby('fp').median().reset_index()\n",
    "\n",
    "# get jitter within a batch per node\n",
    "#jitter = batch_med_lat.groupby('fp').std().reset_index()\n",
    "node_med_jitter = batch_std_lat.groupby('fp').median().reset_index()\n",
    "node_med_jitter.rename(columns={'latency': 'jitter'}, inplace=True)"
   ]
  },
  {
   "cell_type": "code",
   "execution_count": null,
   "metadata": {
    "collapsed": false
   },
   "outputs": [],
   "source": [
    "print \"- Total num samples:\", len(data)\n",
    "print \"- Found data for\",  len(node_med_lat), \"nodes\"\n",
    "print \"- An average of\", int(batches.count()['sample_id'].mean()), \"samples for each node.\"\n",
    "print \"\\n\""
   ]
  },
  {
   "cell_type": "markdown",
   "metadata": {},
   "source": [
    "This is how the *raw* dataset looks like:"
   ]
  },
  {
   "cell_type": "code",
   "execution_count": null,
   "metadata": {
    "collapsed": false
   },
   "outputs": [],
   "source": [
    "# show head of dataset\n",
    "data.head()"
   ]
  },
  {
   "cell_type": "markdown",
   "metadata": {},
   "source": [
    "This is how the *per-node* dataset looks like:"
   ]
  },
  {
   "cell_type": "code",
   "execution_count": null,
   "metadata": {
    "collapsed": false
   },
   "outputs": [],
   "source": [
    "# put into one single dataset\n",
    "header = ['fp', 'flags']\n",
    "nodestat = data[header].drop_duplicates()\n",
    "\n",
    "# merge stats\n",
    "nodestat = node_med_lat.merge(nodestat, on='fp')\n",
    "nodestat = node_med_jitter.merge(nodestat, on='fp')\n",
    "\n",
    "# check if a node is exit or guard\n",
    "nodestat['is_guard'] = nodestat.flags.str.contains('Guard')\n",
    "nodestat['is_exit'] = nodestat.flags.str.contains('Exit')\n",
    "\n",
    "# show head of node stats\n",
    "nodestat.head()"
   ]
  },
  {
   "cell_type": "code",
   "execution_count": null,
   "metadata": {
    "collapsed": true
   },
   "outputs": [],
   "source": [
    "# push the dataset to R\n",
    "%Rpush nodestat"
   ]
  },
  {
   "cell_type": "markdown",
   "metadata": {},
   "source": [
    "# Latency\n",
    "\n",
    "From the traffic traces collected for the TCP connections to the nodes, we extract the first SYN+ACK packet (if any) and its corresponding SYN packet. Next, we substract the SYN timestamp to the SYN+ACK timestamp to obtain a measurement of the latency to a node.\n",
    "\n",
    "Some basic statistics about the per-node median latencies:"
   ]
  },
  {
   "cell_type": "code",
   "execution_count": null,
   "metadata": {
    "collapsed": false
   },
   "outputs": [],
   "source": [
    "node_med_lat.describe()"
   ]
  },
  {
   "cell_type": "markdown",
   "metadata": {},
   "source": [
    "Top nodes by high latency:"
   ]
  },
  {
   "cell_type": "code",
   "execution_count": null,
   "metadata": {
    "collapsed": false
   },
   "outputs": [],
   "source": [
    "top_lat = node_med_lat.sort_values(['latency'], ascending=False).head()\n",
    "HTML(fp2url(top_lat[['fp', 'latency']]))"
   ]
  },
  {
   "cell_type": "code",
   "execution_count": null,
   "metadata": {
    "collapsed": false,
    "scrolled": false
   },
   "outputs": [],
   "source": [
    "%%R\n",
    "\n",
    "# plot boxplot position vs rest\n",
    "guard <- ggplot(data=nodestat, aes(y=latency, x=is_guard)) + geom_boxplot() +  scale_y_log10()\n",
    "exit <- ggplot(data=nodestat, aes(y=latency, x=is_exit)) + geom_boxplot() +  scale_y_log10()\n",
    "\n",
    "grid.arrange(guard, exit, ncol=2, nrow =1)"
   ]
  },
  {
   "cell_type": "markdown",
   "metadata": {
    "collapsed": true
   },
   "source": [
    "# Jitter\n",
    "\n",
    "We measure jitter of a node as the variance of the node's latency within a batch.\n",
    "\n",
    "Some statistics for jitter values:"
   ]
  },
  {
   "cell_type": "code",
   "execution_count": null,
   "metadata": {
    "collapsed": false
   },
   "outputs": [],
   "source": [
    "node_med_jitter.describe()"
   ]
  },
  {
   "cell_type": "markdown",
   "metadata": {},
   "source": [
    "Top nodes by high jitter:"
   ]
  },
  {
   "cell_type": "code",
   "execution_count": null,
   "metadata": {
    "collapsed": false
   },
   "outputs": [],
   "source": [
    "top_jitter = node_med_jitter.sort_values(['jitter'], ascending=False).head()\n",
    "HTML(fp2url(top_jitter[['fp', 'jitter']]))"
   ]
  },
  {
   "cell_type": "code",
   "execution_count": null,
   "metadata": {
    "collapsed": false
   },
   "outputs": [],
   "source": [
    "%%R\n",
    "\n",
    "# plot boxplot guard vs rest\n",
    "guard <- ggplot(data=nodestat, aes(y=jitter, x=is_guard)) + geom_boxplot() +  scale_y_log10()\n",
    "exit <- ggplot(data=nodestat, aes(y=jitter, x=is_exit)) + geom_boxplot() +  scale_y_log10()\n",
    "\n",
    "grid.arrange(guard, exit, ncol=2, nrow =1)"
   ]
  },
  {
   "cell_type": "code",
   "execution_count": null,
   "metadata": {
    "collapsed": true
   },
   "outputs": [],
   "source": []
  }
 ],
 "metadata": {
  "kernelspec": {
   "display_name": "Python 2",
   "language": "python",
   "name": "python2"
  },
  "language_info": {
   "codemirror_mode": {
    "name": "ipython",
    "version": 2
   },
   "file_extension": ".py",
   "mimetype": "text/x-python",
   "name": "python",
   "nbconvert_exporter": "python",
   "pygments_lexer": "ipython2",
   "version": "2.7.9"
  },
  "latex_envs": {
   "bibliofile": "biblio.bib",
   "cite_by": "apalike",
   "current_citInitial": 1,
   "eqLabelWithNumbers": true,
   "eqNumInitial": 0
  },
  "toc": {
   "toc_cell": true,
   "toc_number_sections": true,
   "toc_threshold": 6,
   "toc_window_display": false
  }
 },
 "nbformat": 4,
 "nbformat_minor": 0
}
