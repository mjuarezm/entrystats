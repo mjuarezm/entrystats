{
 "cells": [
  {
   "cell_type": "markdown",
   "metadata": {
    "toc": "true"
   },
   "source": [
    "# Table of Contents\n",
    " <p><div class=\"lev1\"><a href=\"#Introduction\"><span class=\"toc-item-num\">1&nbsp;&nbsp;</span>Introduction</a></div><div class=\"lev2\"><a href=\"#Collected-data\"><span class=\"toc-item-num\">1.1&nbsp;&nbsp;</span>Collected data</a></div><div class=\"lev2\"><a href=\"#Collected-data\"><span class=\"toc-item-num\">1.2&nbsp;&nbsp;</span>Collected data</a></div><div class=\"lev2\"><a href=\"#Latency\"><span class=\"toc-item-num\">1.3&nbsp;&nbsp;</span>Latency</a></div>"
   ]
  },
  {
   "cell_type": "code",
   "execution_count": 57,
   "metadata": {
    "collapsed": false
   },
   "outputs": [
    {
     "data": {
      "text/html": [
       "<script>\n",
       "code_show=true; \n",
       "function code_toggle() {\n",
       " document.title = 'Variance analysis';\n",
       " code_show = !code_show\n",
       " var divs = document.getElementsByClassName('input');\n",
       " var divs = document.getElementsByClassName('input');\n",
       " if (code_show){\n",
       "   for (var i in divs) {\n",
       "     if (typeof divs[i] != 'undefined') {\n",
       "       divs[i].style.display = 'block';\n",
       "     } \n",
       "   }\n",
       " } else {\n",
       "   for (var i in divs) {\n",
       "     if (typeof divs[i] != 'undefined') {\n",
       "       divs[i].style.display = 'none';\n",
       "     } \n",
       "   }\n",
       " }\n",
       "} \n",
       "\n",
       "document.addEventListener(\"DOMContentLoaded\", function(event) { \n",
       "  code_toggle()\n",
       "});\n",
       "</script>\n",
       "<form action=\"javascript:code_toggle()\"><input type=\"submit\" value=\"Click here to toggle on/off the raw code.\"></form>"
      ],
      "text/plain": [
       "<IPython.core.display.HTML object>"
      ]
     },
     "execution_count": 57,
     "metadata": {},
     "output_type": "execute_result"
    }
   ],
   "source": [
    "# button to toggle code\n",
    "HTML('''<script>\n",
    "code_show=true; \n",
    "function code_toggle() {\n",
    " document.title = 'Variance analysis';\n",
    " code_show = !code_show\n",
    " var divs = document.getElementsByClassName('input');\n",
    " var divs = document.getElementsByClassName('input');\n",
    " if (code_show){\n",
    "   for (var i in divs) {\n",
    "     if (typeof divs[i] != 'undefined') {\n",
    "       divs[i].style.display = 'block';\n",
    "     } \n",
    "   }\n",
    " } else {\n",
    "   for (var i in divs) {\n",
    "     if (typeof divs[i] != 'undefined') {\n",
    "       divs[i].style.display = 'none';\n",
    "     } \n",
    "   }\n",
    " }\n",
    "} \n",
    "\n",
    "document.addEventListener(\"DOMContentLoaded\", function(event) { \n",
    "  code_toggle()\n",
    "});\n",
    "</script>\n",
    "<form action=\"javascript:code_toggle()\"><input type=\"submit\" value=\"Click here to toggle on/off the raw code.\"></form>''')"
   ]
  },
  {
   "cell_type": "markdown",
   "metadata": {},
   "source": [
    "# Introduction\n",
    "\n",
    "The objective of this analysis is to study the distribution of network jitter in Tor entry guards. Some nodes might have a significantly large jitter than the average. We believe that in those cases, website fingerprinting may have lower effectiveness than in the entry guards with low jitter. The rationale is that even if the entry to guard TCP connection is independent of the website, the interaction between the page structure (HTTP request/response pattern) and the jitter, may make the fingerprint less reliable than in low-jitter guards."
   ]
  },
  {
   "cell_type": "code",
   "execution_count": 58,
   "metadata": {
    "collapsed": false
   },
   "outputs": [],
   "source": [
    "%matplotlib inline\n",
    "from os import listdir\n",
    "from os.path import join, dirname, realpath, isdir, getmtime, splitext\n",
    "from glob import glob\n",
    "\n",
    "import numpy as np\n",
    "import pandas as pd\n",
    "\n",
    "import matplotlib as mpl\n",
    "import matplotlib.pyplot as plt\n",
    "mpl.style.use('ggplot')\n",
    "\n",
    "from IPython.display import HTML\n",
    "from IPython.core.interactiveshell import InteractiveShell\n",
    "\n",
    "# Notebook config\n",
    "InteractiveShell.ast_node_interactivity = \"all\"\n",
    "\n",
    "# directories\n",
    "BASE_DIR = dirname(realpath(\"__file__\"))\n",
    "RESULTS_DIR = join(BASE_DIR, 'results')\n",
    "LATEST_FILE = max([join(RESULTS_DIR, d) for d in listdir(RESULTS_DIR)], key=getmtime)\n",
    "LATEST_DATA = '%s.csv' % splitext(LATEST_FILE)[0]"
   ]
  },
  {
   "cell_type": "markdown",
   "metadata": {},
   "source": [
    "## Collected data\n",
    "\n",
    "\n",
    "For our data collection, we make a TCP connection to the guard's OR port and record all the traffic that is generated. In total, we have collected:"
   ]
  },
  {
   "cell_type": "code",
   "execution_count": 59,
   "metadata": {
    "collapsed": false
   },
   "outputs": [
    {
     "name": "stdout",
     "output_type": "stream",
     "text": [
      "- Total num samples: 13\n",
      "- Found data for 13 entry guards\n",
      "- An average of 1 samples for each entry guard.\n"
     ]
    }
   ],
   "source": [
    "# load data\n",
    "data = pd.read_csv(join(LATEST_DATA))\n",
    "\n",
    "num_samples = len(data)\n",
    "print \"- Total num samples:\", num_samples\n",
    "\n",
    "guards = data.groupby(['guard_fp'])['guard_fp'].count()\n",
    "num_guards = len(guards)\n",
    "print \"- Found data for\", num_guards, \"entry guards\"\n",
    "\n",
    "avg_num_samples_per_guard = guards.mean()\n",
    "print \"- An average of\", int(avg_num_samples_per_guard), \"samples for each entry guard.\""
   ]
  },
  {
   "cell_type": "markdown",
   "metadata": {
    "variables": {
     "guards": "426",
     "int(avg_samples)": "1"
    }
   },
   "source": [
    "This is how the dataset looks like:"
   ]
  },
  {
   "cell_type": "code",
   "execution_count": 60,
   "metadata": {
    "code_folding": [],
    "collapsed": false
   },
   "outputs": [
    {
     "data": {
      "text/html": [
       "<div>\n",
       "<table border=\"1\" class=\"dataframe\">\n",
       "  <thead>\n",
       "    <tr style=\"text-align: right;\">\n",
       "      <th></th>\n",
       "      <th>sample_id</th>\n",
       "      <th>guard_fp</th>\n",
       "      <th>latency</th>\n",
       "    </tr>\n",
       "  </thead>\n",
       "  <tbody>\n",
       "    <tr>\n",
       "      <th>0</th>\n",
       "      <td>2194000</td>\n",
       "      <td>001524DD403D729F08F7</td>\n",
       "      <td>0.074747</td>\n",
       "    </tr>\n",
       "    <tr>\n",
       "      <th>1</th>\n",
       "      <td>2194000</td>\n",
       "      <td>00161E152FCF43380176</td>\n",
       "      <td>0.082679</td>\n",
       "    </tr>\n",
       "    <tr>\n",
       "      <th>2</th>\n",
       "      <td>2194001</td>\n",
       "      <td>00459AF0E9DED00E54A4</td>\n",
       "      <td>0.139132</td>\n",
       "    </tr>\n",
       "    <tr>\n",
       "      <th>3</th>\n",
       "      <td>2194001</td>\n",
       "      <td>0063D0DE32C80691A0AC</td>\n",
       "      <td>0.208920</td>\n",
       "    </tr>\n",
       "    <tr>\n",
       "      <th>4</th>\n",
       "      <td>2194000</td>\n",
       "      <td>006C0B92328C89043ECC</td>\n",
       "      <td>0.075512</td>\n",
       "    </tr>\n",
       "  </tbody>\n",
       "</table>\n",
       "</div>"
      ],
      "text/plain": [
       "   sample_id              guard_fp   latency\n",
       "0    2194000  001524DD403D729F08F7  0.074747\n",
       "1    2194000  00161E152FCF43380176  0.082679\n",
       "2    2194001  00459AF0E9DED00E54A4  0.139132\n",
       "3    2194001  0063D0DE32C80691A0AC  0.208920\n",
       "4    2194000  006C0B92328C89043ECC  0.075512"
      ]
     },
     "execution_count": 60,
     "metadata": {},
     "output_type": "execute_result"
    }
   ],
   "source": [
    "# load data in a dataframe\n",
    "data.head()"
   ]
  },
  {
   "cell_type": "markdown",
   "metadata": {},
   "source": [
    "## Latency\n",
    "\n",
    "From the traffic traces collected for the TCP connections to the guards, we extract the first SYN+ACK packet (if any) and its corresponding SYN packet. Next, we substract the SYN timestamp to the SYN+ACK timestamp to obtain a measurement of the latency to a guard.\n",
    "\n",
    "We extract some basic statistics about the latencies:"
   ]
  },
  {
   "cell_type": "code",
   "execution_count": 61,
   "metadata": {
    "collapsed": false
   },
   "outputs": [
    {
     "data": {
      "text/plain": [
       "count    13.000000\n",
       "mean      0.105752\n",
       "std       0.052276\n",
       "min       0.033181\n",
       "25%       0.075512\n",
       "50%       0.093991\n",
       "75%       0.131871\n",
       "max       0.208920\n",
       "Name: latency, dtype: float64"
      ]
     },
     "execution_count": 61,
     "metadata": {},
     "output_type": "execute_result"
    }
   ],
   "source": [
    "data['latency'].describe()"
   ]
  },
  {
   "cell_type": "markdown",
   "metadata": {
    "collapsed": true
   },
   "source": [
    "We plot the histogram of latencies:"
   ]
  },
  {
   "cell_type": "code",
   "execution_count": 62,
   "metadata": {
    "collapsed": false
   },
   "outputs": [
    {
     "data": {
      "text/plain": [
       "<matplotlib.axes._subplots.AxesSubplot at 0x7f3d875c9490>"
      ]
     },
     "execution_count": 62,
     "metadata": {},
     "output_type": "execute_result"
    },
    {
     "data": {
      "text/plain": [
       "<matplotlib.axes._subplots.AxesSubplot at 0x7f3d87531350>"
      ]
     },
     "execution_count": 62,
     "metadata": {},
     "output_type": "execute_result"
    },
    {
     "data": {
      "image/png": "[encoded data removed]",
      "text/plain": [
       "<matplotlib.figure.Figure at 0x7f3d875cbe90>"
      ]
     },
     "metadata": {},
     "output_type": "display_data"
    }
   ],
   "source": [
    "fig, (ax1, ax2) = plt.subplots(nrows=1, ncols=2)\n",
    "data['latency'].plot(kind='hist', bins=20, ax=ax1, figsize=(10, 3), title=\"Entry latency\")\n",
    "data['latency'].apply(np.log).plot(kind='hist', bins=20, ax=ax2, figsize=(10, 3), title=\"Entry latency (log scale)\")"
   ]
  },
  {
   "cell_type": "markdown",
   "metadata": {
    "collapsed": true
   },
   "source": [
    "## Jitter\n",
    "\n",
    "We measure jitter of a node as the variance of the node's latency. We can calculate the variance because we take several samples for each node."
   ]
  },
  {
   "cell_type": "code",
   "execution_count": 63,
   "metadata": {
    "collapsed": false
   },
   "outputs": [
    {
     "data": {
      "text/plain": [
       "<matplotlib.axes._subplots.AxesSubplot at 0x7f3d875c9490>"
      ]
     },
     "execution_count": 63,
     "metadata": {},
     "output_type": "execute_result"
    }
   ],
   "source": [
    "def jitter(latencies):\n",
    "    \"\"\"Compute jitter from latency data.\"\"\"\n",
    "    return latencies.groupby(['guard_fp'])['latency'].std()\n",
    "\n",
    "jitter(data).plot(kind='hist', bins=20, ax=ax1, figsize=(10, 3), title=\"Entry jitter\")"
   ]
  },
  {
   "cell_type": "code",
   "execution_count": null,
   "metadata": {
    "collapsed": true
   },
   "outputs": [],
   "source": []
  }
 ],
 "metadata": {
  "kernelspec": {
   "display_name": "Python 2",
   "language": "python",
   "name": "python2"
  },
  "language_info": {
   "codemirror_mode": {
    "name": "ipython",
    "version": 2
   },
   "file_extension": ".py",
   "mimetype": "text/x-python",
   "name": "python",
   "nbconvert_exporter": "python",
   "pygments_lexer": "ipython2",
   "version": "2.7.9"
  },
  "latex_envs": {
   "bibliofile": "biblio.bib",
   "cite_by": "apalike",
   "current_citInitial": 1,
   "eqLabelWithNumbers": true,
   "eqNumInitial": 0
  },
  "toc": {
   "toc_cell": true,
   "toc_number_sections": true,
   "toc_threshold": 6,
   "toc_window_display": false
  }
 },
 "nbformat": 4,
 "nbformat_minor": 0
}
