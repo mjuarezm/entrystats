{
 "cells": [
  {
   "cell_type": "markdown",
   "metadata": {
    "toc": "true"
   },
   "source": [
    "# Table of Contents\n",
    " <p><div class=\"lev1\"><a href=\"#Introduction\"><span class=\"toc-item-num\">1&nbsp;&nbsp;</span>Introduction</a></div><div class=\"lev2\"><a href=\"#Collected-data\"><span class=\"toc-item-num\">1.1&nbsp;&nbsp;</span>Collected data</a></div><div class=\"lev2\"><a href=\"#Collected-data\"><span class=\"toc-item-num\">1.2&nbsp;&nbsp;</span>Collected data</a></div><div class=\"lev2\"><a href=\"#Latency\"><span class=\"toc-item-num\">1.3&nbsp;&nbsp;</span>Latency</a></div>"
   ]
  },
  {
   "cell_type": "markdown",
   "metadata": {},
   "source": [
    "# Introduction\n",
    "\n",
    "The objective of this analysis is to study the distribution of network jitter in Tor entry guards. Some nodes might have a significantly large jitter than the average. We believe that in those cases, website fingerprinting may have lower effectiveness than in the entry guards with low jitter. The rationale is that even if the entry to guard TCP connection is independent of the website, the interaction between the page structure (HTTP request/response pattern) and the jitter, may make the fingerprint less reliable than in low-jitter guards."
   ]
  },
  {
   "cell_type": "code",
   "execution_count": 1,
   "metadata": {
    "collapsed": false
   },
   "outputs": [],
   "source": [
    "%matplotlib inline\n",
    "from os import listdir\n",
    "from os.path import join, dirname, realpath, isdir, getmtime\n",
    "from glob import glob\n",
    "\n",
    "import numpy as np\n",
    "import pandas as pd\n",
    "\n",
    "import matplotlib as mpl\n",
    "import matplotlib.pyplot as plt\n",
    "mpl.style.use('ggplot')\n",
    "\n",
    "from IPython.display import HTML\n",
    "from IPython.core.interactiveshell import InteractiveShell\n",
    "\n",
    "# Notebook config\n",
    "InteractiveShell.ast_node_interactivity = \"all\""
   ]
  },
  {
   "cell_type": "code",
   "execution_count": 2,
   "metadata": {
    "collapsed": false
   },
   "outputs": [
    {
     "data": {
      "text/html": [
       "<script>\n",
       "code_show=true; \n",
       "function code_toggle() {\n",
       " document.title = 'Variance analysis';\n",
       " code_show = !code_show\n",
       " var divs = document.getElementsByClassName('input');\n",
       " var divs = document.getElementsByClassName('input');\n",
       " if (code_show){\n",
       "   for (var i in divs) {\n",
       "     if (typeof divs[i] != 'undefined') {\n",
       "       divs[i].style.display = 'block';\n",
       "     } \n",
       "   }\n",
       " } else {\n",
       "   for (var i in divs) {\n",
       "     if (typeof divs[i] != 'undefined') {\n",
       "       divs[i].style.display = 'none';\n",
       "     } \n",
       "   }\n",
       " }\n",
       "} \n",
       "\n",
       "document.addEventListener(\"DOMContentLoaded\", function(event) { \n",
       "  code_toggle()\n",
       "});\n",
       "</script>\n",
       "<form action=\"javascript:code_toggle()\"><input type=\"submit\" value=\"Click here to toggle on/off the raw code.\"></form>"
      ],
      "text/plain": [
       "<IPython.core.display.HTML object>"
      ]
     },
     "execution_count": 2,
     "metadata": {},
     "output_type": "execute_result"
    }
   ],
   "source": [
    "# button to toggle code\n",
    "\n",
    "HTML('''<script>\n",
    "code_show=true; \n",
    "function code_toggle() {\n",
    " document.title = 'Variance analysis';\n",
    " code_show = !code_show\n",
    " var divs = document.getElementsByClassName('input');\n",
    " var divs = document.getElementsByClassName('input');\n",
    " if (code_show){\n",
    "   for (var i in divs) {\n",
    "     if (typeof divs[i] != 'undefined') {\n",
    "       divs[i].style.display = 'block';\n",
    "     } \n",
    "   }\n",
    " } else {\n",
    "   for (var i in divs) {\n",
    "     if (typeof divs[i] != 'undefined') {\n",
    "       divs[i].style.display = 'none';\n",
    "     } \n",
    "   }\n",
    " }\n",
    "} \n",
    "\n",
    "document.addEventListener(\"DOMContentLoaded\", function(event) { \n",
    "  code_toggle()\n",
    "});\n",
    "</script>\n",
    "<form action=\"javascript:code_toggle()\"><input type=\"submit\" value=\"Click here to toggle on/off the raw code.\"></form>''')"
   ]
  },
  {
   "cell_type": "code",
   "execution_count": 8,
   "metadata": {
    "collapsed": false
   },
   "outputs": [
    {
     "name": "stdout",
     "output_type": "stream",
     "text": [
      "/home/mjuarezm/git/entrystats/results/170130_162611\n"
     ]
    }
   ],
   "source": [
    "# directories\n",
    "BASE_DIR = dirname(realpath(\"__file__\"))\n",
    "RESULTS_DIR = join(BASE_DIR, 'results')\n",
    "LATEST_DIR = max([join(RESULTS_DIR, d) for d in listdir(RESULTS_DIR)\n",
    "                  if isdir(join(RESULTS_DIR, d))], key=getmtime)\n",
    "print LATEST_DIR\n",
    "\n",
    "# globals\n",
    "CSV_NAMES = [\"ip_proto\", \"epoch\",\n",
    "             \"ip_src\", \"ip_dst\", \"port_src\", \"port_dst\",\n",
    "             \"ip_len\", \"ip_hdr_len\", \"tcp_hdr_len\", \"data_len\",\n",
    "             \"tcp_flags\", \"tcp_seq\", \"tcp_ack\",\n",
    "             \"tcp_window_size_value\", \"ws_message\",\n",
    "             \"tcp_options_tsval\", \"tcp_options_tsecr\"]"
   ]
  },
  {
   "cell_type": "code",
   "execution_count": 4,
   "metadata": {
    "collapsed": false
   },
   "outputs": [],
   "source": [
    "# get filenames\n",
    "stat_files = {}\n",
    "for fname in listdir(LATEST_DIR):\n",
    "    if fname not in stat_files:\n",
    "        key = fname.split('_')[0]\n",
    "        stat_files[key] = glob(join(LATEST_DIR, key + '*'))\n",
    "\n",
    "guards = len(stat_files)\n",
    "avg_samples = np.mean([len(l) for l in stat_files.itervalues()])"
   ]
  },
  {
   "cell_type": "markdown",
   "metadata": {},
   "source": [
    "## Collected data\n",
    "\n",
    "We have collected:"
   ]
  },
  {
   "cell_type": "code",
   "execution_count": 5,
   "metadata": {
    "collapsed": false
   },
   "outputs": [
    {
     "name": "stdout",
     "output_type": "stream",
     "text": [
      "- Data for 47 entry guards\n",
      "- An average of 1 samples for each entry guard.\n"
     ]
    }
   ],
   "source": [
    "print \"- Data for\", guards, \"entry guards\"\n",
    "print \"- An average of\", int(avg_samples), \"samples for each entry guard.\""
   ]
  },
  {
   "cell_type": "markdown",
   "metadata": {
    "variables": {
     "guards": "426",
     "int(avg_samples)": "1"
    }
   },
   "source": [
    "This is how the dataset looks like:"
   ]
  },
  {
   "cell_type": "code",
   "execution_count": 17,
   "metadata": {
    "code_folding": [],
    "collapsed": false
   },
   "outputs": [
    {
     "data": {
      "text/html": [
       "<div>\n",
       "<table border=\"1\" class=\"dataframe\">\n",
       "  <thead>\n",
       "    <tr style=\"text-align: right;\">\n",
       "      <th></th>\n",
       "      <th>entry</th>\n",
       "      <th>sample</th>\n",
       "      <th>ip_proto</th>\n",
       "      <th>epoch</th>\n",
       "      <th>ip_src</th>\n",
       "      <th>ip_dst</th>\n",
       "      <th>port_src</th>\n",
       "      <th>port_dst</th>\n",
       "      <th>ip_len</th>\n",
       "      <th>ip_hdr_len</th>\n",
       "      <th>tcp_hdr_len</th>\n",
       "      <th>data_len</th>\n",
       "      <th>tcp_flags</th>\n",
       "      <th>tcp_seq</th>\n",
       "      <th>tcp_ack</th>\n",
       "      <th>tcp_window_size_value</th>\n",
       "      <th>ws_message</th>\n",
       "      <th>tcp_options_tsval</th>\n",
       "      <th>tcp_options_tsecr</th>\n",
       "    </tr>\n",
       "  </thead>\n",
       "  <tbody>\n",
       "    <tr>\n",
       "      <th>1</th>\n",
       "      <td>03C4F793333152B8937C96FCC5CD4144D20B3E1A</td>\n",
       "      <td>0</td>\n",
       "      <td>6</td>\n",
       "      <td>1.485794e+09</td>\n",
       "      <td>51.255.169.10</td>\n",
       "      <td>172.17.0.2</td>\n",
       "      <td>443</td>\n",
       "      <td>57473</td>\n",
       "      <td>60</td>\n",
       "      <td>5</td>\n",
       "      <td>40</td>\n",
       "      <td>NaN</td>\n",
       "      <td>18</td>\n",
       "      <td>0</td>\n",
       "      <td>1</td>\n",
       "      <td>28960</td>\n",
       "      <td>Connection establish acknowledge (SYN+ACK): se...</td>\n",
       "      <td>1390977997</td>\n",
       "      <td>1.576060e+09</td>\n",
       "    </tr>\n",
       "    <tr>\n",
       "      <th>0</th>\n",
       "      <td>010C3906A032599F501DDF70E28C356E9094E965</td>\n",
       "      <td>0</td>\n",
       "      <td>6</td>\n",
       "      <td>1.485794e+09</td>\n",
       "      <td>172.17.0.2</td>\n",
       "      <td>198.252.153.69</td>\n",
       "      <td>54946</td>\n",
       "      <td>9001</td>\n",
       "      <td>60</td>\n",
       "      <td>5</td>\n",
       "      <td>40</td>\n",
       "      <td>NaN</td>\n",
       "      <td>2</td>\n",
       "      <td>0</td>\n",
       "      <td>0</td>\n",
       "      <td>29200</td>\n",
       "      <td>Connection establish request (SYN): server por...</td>\n",
       "      <td>1575975883</td>\n",
       "      <td>0.000000e+00</td>\n",
       "    </tr>\n",
       "    <tr>\n",
       "      <th>1</th>\n",
       "      <td>010C3906A032599F501DDF70E28C356E9094E965</td>\n",
       "      <td>0</td>\n",
       "      <td>6</td>\n",
       "      <td>1.485794e+09</td>\n",
       "      <td>198.252.153.69</td>\n",
       "      <td>172.17.0.2</td>\n",
       "      <td>9001</td>\n",
       "      <td>54946</td>\n",
       "      <td>60</td>\n",
       "      <td>5</td>\n",
       "      <td>40</td>\n",
       "      <td>NaN</td>\n",
       "      <td>18</td>\n",
       "      <td>0</td>\n",
       "      <td>1</td>\n",
       "      <td>28960</td>\n",
       "      <td>Connection establish acknowledge (SYN+ACK): se...</td>\n",
       "      <td>211403665</td>\n",
       "      <td>1.575976e+09</td>\n",
       "    </tr>\n",
       "    <tr>\n",
       "      <th>20</th>\n",
       "      <td>010C3906A032599F501DDF70E28C356E9094E965</td>\n",
       "      <td>0</td>\n",
       "      <td>6</td>\n",
       "      <td>1.485794e+09</td>\n",
       "      <td>172.17.0.2</td>\n",
       "      <td>198.252.153.69</td>\n",
       "      <td>54948</td>\n",
       "      <td>9001</td>\n",
       "      <td>60</td>\n",
       "      <td>5</td>\n",
       "      <td>40</td>\n",
       "      <td>NaN</td>\n",
       "      <td>2</td>\n",
       "      <td>0</td>\n",
       "      <td>0</td>\n",
       "      <td>29200</td>\n",
       "      <td>Connection establish request (SYN): server por...</td>\n",
       "      <td>1575976384</td>\n",
       "      <td>0.000000e+00</td>\n",
       "    </tr>\n",
       "    <tr>\n",
       "      <th>21</th>\n",
       "      <td>010C3906A032599F501DDF70E28C356E9094E965</td>\n",
       "      <td>0</td>\n",
       "      <td>6</td>\n",
       "      <td>1.485794e+09</td>\n",
       "      <td>198.252.153.69</td>\n",
       "      <td>172.17.0.2</td>\n",
       "      <td>9001</td>\n",
       "      <td>54948</td>\n",
       "      <td>60</td>\n",
       "      <td>5</td>\n",
       "      <td>40</td>\n",
       "      <td>NaN</td>\n",
       "      <td>18</td>\n",
       "      <td>0</td>\n",
       "      <td>1</td>\n",
       "      <td>28960</td>\n",
       "      <td>Connection establish acknowledge (SYN+ACK): se...</td>\n",
       "      <td>211404167</td>\n",
       "      <td>1.575976e+09</td>\n",
       "    </tr>\n",
       "  </tbody>\n",
       "</table>\n",
       "</div>"
      ],
      "text/plain": [
       "                                       entry  sample  ip_proto         epoch  \\\n",
       "1   03C4F793333152B8937C96FCC5CD4144D20B3E1A       0         6  1.485794e+09   \n",
       "0   010C3906A032599F501DDF70E28C356E9094E965       0         6  1.485794e+09   \n",
       "1   010C3906A032599F501DDF70E28C356E9094E965       0         6  1.485794e+09   \n",
       "20  010C3906A032599F501DDF70E28C356E9094E965       0         6  1.485794e+09   \n",
       "21  010C3906A032599F501DDF70E28C356E9094E965       0         6  1.485794e+09   \n",
       "\n",
       "            ip_src          ip_dst  port_src  port_dst  ip_len  ip_hdr_len  \\\n",
       "1    51.255.169.10      172.17.0.2       443     57473      60           5   \n",
       "0       172.17.0.2  198.252.153.69     54946      9001      60           5   \n",
       "1   198.252.153.69      172.17.0.2      9001     54946      60           5   \n",
       "20      172.17.0.2  198.252.153.69     54948      9001      60           5   \n",
       "21  198.252.153.69      172.17.0.2      9001     54948      60           5   \n",
       "\n",
       "    tcp_hdr_len  data_len  tcp_flags  tcp_seq  tcp_ack  tcp_window_size_value  \\\n",
       "1            40       NaN         18        0        1                  28960   \n",
       "0            40       NaN          2        0        0                  29200   \n",
       "1            40       NaN         18        0        1                  28960   \n",
       "20           40       NaN          2        0        0                  29200   \n",
       "21           40       NaN         18        0        1                  28960   \n",
       "\n",
       "                                           ws_message tcp_options_tsval  \\\n",
       "1   Connection establish acknowledge (SYN+ACK): se...        1390977997   \n",
       "0   Connection establish request (SYN): server por...        1575975883   \n",
       "1   Connection establish acknowledge (SYN+ACK): se...         211403665   \n",
       "20  Connection establish request (SYN): server por...        1575976384   \n",
       "21  Connection establish acknowledge (SYN+ACK): se...         211404167   \n",
       "\n",
       "    tcp_options_tsecr  \n",
       "1        1.576060e+09  \n",
       "0        0.000000e+00  \n",
       "1        1.575976e+09  \n",
       "20       0.000000e+00  \n",
       "21       1.575976e+09  "
      ]
     },
     "execution_count": 17,
     "metadata": {},
     "output_type": "execute_result"
    }
   ],
   "source": [
    "# load data in a dataframe\n",
    "dfs = []\n",
    "for k, l in stat_files.iteritems():\n",
    "    for i, fpath in enumerate(l):\n",
    "        df = pd.read_csv(fpath, names=CSV_NAMES)\n",
    "        df['tcp_flags'] = df['tcp_flags'].apply(lambda s: int(s, 0))\n",
    "        df = df[(df['tcp_flags'] == 2) | (df['tcp_flags'] == 18)]  # SYN and SYN,ACK packets\n",
    "        df['entry'] = k\n",
    "        df['sample'] = i\n",
    "        dfs.append(df)\n",
    "data = pd.concat(dfs)\n",
    "data[['entry', 'sample'] + [c for c in data.columns if c != 'entry' and c != 'sample']].tail()"
   ]
  },
  {
   "cell_type": "markdown",
   "metadata": {},
   "source": [
    "## Latency\n",
    "\n",
    "We compute the latency by extracting the SYN, SYN-ACK packets of the TCP connection for the Tor circuit to each entry. We substract the SYN-ACK timestamp to the SYN timestamp to obtain the latency to that specific entry.\n",
    "\n",
    "This is the dataset of latencies:"
   ]
  },
  {
   "cell_type": "code",
   "execution_count": 22,
   "metadata": {
    "collapsed": false
   },
   "outputs": [],
   "source": [
    "def latencies(data):\n",
    "    \"\"\"Compute latencies for all samples in the dataframe.\"\"\"\n",
    "    def ts(d):\n",
    "        if len(d) == 2:\n",
    "            return np.diff(d['epoch'])[0]\n",
    "        return np.nan\n",
    "    return data.groupby(['entry', 'sample']).apply(ts).reset_index(name='latency')\n",
    "\n",
    "def jitter(latencies):\n",
    "    \"\"\"Compute jitter for latency data.\"\"\"\n",
    "    return latencies['latency']"
   ]
  },
  {
   "cell_type": "code",
   "execution_count": 23,
   "metadata": {
    "collapsed": false
   },
   "outputs": [
    {
     "data": {
      "text/html": [
       "<div>\n",
       "<table border=\"1\" class=\"dataframe\">\n",
       "  <thead>\n",
       "    <tr style=\"text-align: right;\">\n",
       "      <th></th>\n",
       "      <th>entry</th>\n",
       "      <th>sample</th>\n",
       "      <th>latency</th>\n",
       "    </tr>\n",
       "  </thead>\n",
       "  <tbody>\n",
       "    <tr>\n",
       "      <th>1</th>\n",
       "      <td>001524DD403D729F08F7E5D77813EF12756CFA8D</td>\n",
       "      <td>0</td>\n",
       "      <td>0.010459</td>\n",
       "    </tr>\n",
       "    <tr>\n",
       "      <th>2</th>\n",
       "      <td>00161E152FCF43380176F13B964656BD243D6F33</td>\n",
       "      <td>0</td>\n",
       "      <td>0.023335</td>\n",
       "    </tr>\n",
       "    <tr>\n",
       "      <th>3</th>\n",
       "      <td>00459AF0E9DED00E54A48B268126679F578F695A</td>\n",
       "      <td>0</td>\n",
       "      <td>0.027160</td>\n",
       "    </tr>\n",
       "    <tr>\n",
       "      <th>4</th>\n",
       "      <td>0063D0DE32C80691A0AC1A968A8CCF5ABA420E29</td>\n",
       "      <td>0</td>\n",
       "      <td>0.147569</td>\n",
       "    </tr>\n",
       "    <tr>\n",
       "      <th>5</th>\n",
       "      <td>006C0B92328C89043ECCD5F031D8A333A2783598</td>\n",
       "      <td>0</td>\n",
       "      <td>0.015702</td>\n",
       "    </tr>\n",
       "  </tbody>\n",
       "</table>\n",
       "</div>"
      ],
      "text/plain": [
       "                                      entry  sample   latency\n",
       "1  001524DD403D729F08F7E5D77813EF12756CFA8D       0  0.010459\n",
       "2  00161E152FCF43380176F13B964656BD243D6F33       0  0.023335\n",
       "3  00459AF0E9DED00E54A48B268126679F578F695A       0  0.027160\n",
       "4  0063D0DE32C80691A0AC1A968A8CCF5ABA420E29       0  0.147569\n",
       "5  006C0B92328C89043ECCD5F031D8A333A2783598       0  0.015702"
      ]
     },
     "execution_count": 23,
     "metadata": {},
     "output_type": "execute_result"
    }
   ],
   "source": [
    "lats = latencies(data).dropna()\n",
    "lats.head()"
   ]
  },
  {
   "cell_type": "markdown",
   "metadata": {
    "collapsed": false
   },
   "source": [
    "We extract some basic statistics about the latencies:"
   ]
  },
  {
   "cell_type": "code",
   "execution_count": 24,
   "metadata": {
    "collapsed": false
   },
   "outputs": [
    {
     "data": {
      "text/html": [
       "<div>\n",
       "<table border=\"1\" class=\"dataframe\">\n",
       "  <thead>\n",
       "    <tr style=\"text-align: right;\">\n",
       "      <th></th>\n",
       "      <th>sample</th>\n",
       "      <th>latency</th>\n",
       "    </tr>\n",
       "  </thead>\n",
       "  <tbody>\n",
       "    <tr>\n",
       "      <th>count</th>\n",
       "      <td>33.0</td>\n",
       "      <td>33.000000</td>\n",
       "    </tr>\n",
       "    <tr>\n",
       "      <th>mean</th>\n",
       "      <td>0.0</td>\n",
       "      <td>0.028736</td>\n",
       "    </tr>\n",
       "    <tr>\n",
       "      <th>std</th>\n",
       "      <td>0.0</td>\n",
       "      <td>0.036114</td>\n",
       "    </tr>\n",
       "    <tr>\n",
       "      <th>min</th>\n",
       "      <td>0.0</td>\n",
       "      <td>0.004120</td>\n",
       "    </tr>\n",
       "    <tr>\n",
       "      <th>25%</th>\n",
       "      <td>0.0</td>\n",
       "      <td>0.007925</td>\n",
       "    </tr>\n",
       "    <tr>\n",
       "      <th>50%</th>\n",
       "      <td>0.0</td>\n",
       "      <td>0.015702</td>\n",
       "    </tr>\n",
       "    <tr>\n",
       "      <th>75%</th>\n",
       "      <td>0.0</td>\n",
       "      <td>0.027160</td>\n",
       "    </tr>\n",
       "    <tr>\n",
       "      <th>max</th>\n",
       "      <td>0.0</td>\n",
       "      <td>0.147569</td>\n",
       "    </tr>\n",
       "  </tbody>\n",
       "</table>\n",
       "</div>"
      ],
      "text/plain": [
       "       sample    latency\n",
       "count    33.0  33.000000\n",
       "mean      0.0   0.028736\n",
       "std       0.0   0.036114\n",
       "min       0.0   0.004120\n",
       "25%       0.0   0.007925\n",
       "50%       0.0   0.015702\n",
       "75%       0.0   0.027160\n",
       "max       0.0   0.147569"
      ]
     },
     "execution_count": 24,
     "metadata": {},
     "output_type": "execute_result"
    }
   ],
   "source": [
    "lats.describe()"
   ]
  },
  {
   "cell_type": "markdown",
   "metadata": {
    "collapsed": true
   },
   "source": [
    "We plot the histogram of latencies:"
   ]
  },
  {
   "cell_type": "code",
   "execution_count": 25,
   "metadata": {
    "collapsed": false
   },
   "outputs": [
    {
     "data": {
      "text/plain": [
       "<matplotlib.axes._subplots.AxesSubplot at 0x7fd0f93b3610>"
      ]
     },
     "execution_count": 25,
     "metadata": {},
     "output_type": "execute_result"
    },
    {
     "data": {
      "text/plain": [
       "<matplotlib.axes._subplots.AxesSubplot at 0x7fd0f90bfe10>"
      ]
     },
     "execution_count": 25,
     "metadata": {},
     "output_type": "execute_result"
    },
    {
     "data": {
      "image/png": "[encoded data removed]",
      "text/plain": [
       "<matplotlib.figure.Figure at 0x7fd0f90fadd0>"
      ]
     },
     "metadata": {},
     "output_type": "display_data"
    }
   ],
   "source": [
    "fig, (ax1, ax2) = plt.subplots(nrows=1, ncols=2)\n",
    "lats['latency'].plot(kind='hist', bins=20, ax=ax1, figsize=(10, 3), title=\"Entry latency\")\n",
    "lats['latency'].apply(np.log).plot(kind='hist', bins=20, ax=ax2, figsize=(10, 3), title=\"Entry altency (log scale)\")"
   ]
  },
  {
   "cell_type": "code",
   "execution_count": null,
   "metadata": {
    "collapsed": true
   },
   "outputs": [],
   "source": []
  }
 ],
 "metadata": {
  "kernelspec": {
   "display_name": "Python 2",
   "language": "python",
   "name": "python2"
  },
  "language_info": {
   "codemirror_mode": {
    "name": "ipython",
    "version": 2
   },
   "file_extension": ".py",
   "mimetype": "text/x-python",
   "name": "python",
   "nbconvert_exporter": "python",
   "pygments_lexer": "ipython2",
   "version": "2.7.9"
  },
  "latex_envs": {
   "bibliofile": "biblio.bib",
   "cite_by": "apalike",
   "current_citInitial": 1,
   "eqLabelWithNumbers": true,
   "eqNumInitial": 0
  },
  "toc": {
   "toc_cell": true,
   "toc_number_sections": true,
   "toc_threshold": 6,
   "toc_window_display": false
  }
 },
 "nbformat": 4,
 "nbformat_minor": 0
}
