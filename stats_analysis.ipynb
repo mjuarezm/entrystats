{
 "cells": [
  {
   "cell_type": "code",
   "execution_count": 112,
   "metadata": {
    "collapsed": false
   },
   "outputs": [],
   "source": [
    "%matplotlib inline\n",
    "from os import listdir\n",
    "from os.path import join, dirname, realpath, isdir, getmtime\n",
    "from glob import glob\n",
    "\n",
    "import numpy as np\n",
    "import pandas as pd\n",
    "\n",
    "import matplotlib as mpl\n",
    "import matplotlib.pyplot as plt\n",
    "mpl.style.use('ggplot')\n",
    "\n",
    "from IPython.core.interactiveshell import InteractiveShell\n",
    "\n",
    "# Notebook config\n",
    "InteractiveShell.ast_node_interactivity = \"all\"\n",
    "\n",
    "# directories\n",
    "BASE_DIR = dirname(realpath(\"__file__\"))\n",
    "RESULTS_DIR = join(BASE_DIR, 'results')\n",
    "LATEST_DIR = max([join(RESULTS_DIR, d) for d in listdir(RESULTS_DIR)\n",
    "                  if isdir(join(RESULTS_DIR, d))], key=getmtime)\n",
    "\n",
    "# globals\n",
    "CSV_NAMES = [\"ip_proto\", \"epoch\",\n",
    "             \"ip_src\", \"ip_dst\", \"port_src\", \"port_dst\",\n",
    "             \"ip_len\", \"ip_hdr_len\", \"tcp_hdr_len\", \"data_len\",\n",
    "             \"tcp_flags\", \"tcp_seq\", \"tcp_ack\",\n",
    "             \"tcp_window_size_value\", \"ws_message\",\n",
    "             \"tcp_options_tsval\", \"tcp_options_tsecr\"]"
   ]
  },
  {
   "cell_type": "code",
   "execution_count": 113,
   "metadata": {
    "collapsed": false
   },
   "outputs": [
    {
     "name": "stdout",
     "output_type": "stream",
     "text": [
      "Found stats for 8 guards\n",
      "In average, entries have 1.0 samples\n"
     ]
    }
   ],
   "source": [
    "# get filenames\n",
    "stat_files = {}\n",
    "for fname in listdir(LATEST_DIR):\n",
    "    if fname not in stat_files:\n",
    "        key = fname.split('_')[0]\n",
    "        stat_files[key] = glob(join(LATEST_DIR, key + '*'))\n",
    "\n",
    "print \"Found stats for %s guards\" % len(stat_files)\n",
    "print \"In average, entries have %s samples\" % np.mean([len(l) for l in stat_files.itervalues()])\n",
    "    "
   ]
  },
  {
   "cell_type": "code",
   "execution_count": 114,
   "metadata": {
    "collapsed": false
   },
   "outputs": [],
   "source": [
    "# load data in a dataframe\n",
    "dfs = []\n",
    "for k, l in stat_files.iteritems():\n",
    "    for i, fpath in enumerate(l):\n",
    "        df = pd.read_csv(fpath, names=CSV_NAMES)\n",
    "        df = df[(df['tcp_flags'] == '0x0002') | (df['tcp_flags'] == '0x0012')]  # SYN and SYN,ACK packets\n",
    "        df['entry'] = k\n",
    "        df['sample'] = i\n",
    "        dfs.append(df)\n",
    "data = pd.concat(dfs)"
   ]
  },
  {
   "cell_type": "code",
   "execution_count": 115,
   "metadata": {
    "collapsed": false
   },
   "outputs": [],
   "source": [
    "def latencies(data):\n",
    "    \"\"\"Compute latencies for all samples in the dataframe.\"\"\"\n",
    "    return data.groupby(['entry', 'sample']).apply(lambda d: np.diff(d['epoch'])[0]).reset_index(name='latency')\n",
    "\n",
    "def jitter(latencies):\n",
    "    \"\"\"Compute jitter for latency data.\"\"\"\n",
    "    return latencies['latency']"
   ]
  },
  {
   "cell_type": "code",
   "execution_count": 116,
   "metadata": {
    "collapsed": false
   },
   "outputs": [
    {
     "name": "stdout",
     "output_type": "stream",
     "text": [
      "Latency dataset:\n"
     ]
    },
    {
     "data": {
      "text/html": [
       "<div>\n",
       "<table border=\"1\" class=\"dataframe\">\n",
       "  <thead>\n",
       "    <tr style=\"text-align: right;\">\n",
       "      <th></th>\n",
       "      <th>entry</th>\n",
       "      <th>sample</th>\n",
       "      <th>latency</th>\n",
       "    </tr>\n",
       "  </thead>\n",
       "  <tbody>\n",
       "    <tr>\n",
       "      <th>0</th>\n",
       "      <td>00161E152FCF43380176F13B964656BD243D6F33</td>\n",
       "      <td>0</td>\n",
       "      <td>0.027267</td>\n",
       "    </tr>\n",
       "    <tr>\n",
       "      <th>1</th>\n",
       "      <td>00459AF0E9DED00E54A48B268126679F578F695A</td>\n",
       "      <td>0</td>\n",
       "      <td>0.029477</td>\n",
       "    </tr>\n",
       "    <tr>\n",
       "      <th>2</th>\n",
       "      <td>0063D0DE32C80691A0AC1A968A8CCF5ABA420E29</td>\n",
       "      <td>0</td>\n",
       "      <td>0.169964</td>\n",
       "    </tr>\n",
       "    <tr>\n",
       "      <th>3</th>\n",
       "      <td>006C0B92328C89043ECCD5F031D8A333A2783598</td>\n",
       "      <td>0</td>\n",
       "      <td>0.034774</td>\n",
       "    </tr>\n",
       "    <tr>\n",
       "      <th>4</th>\n",
       "      <td>007900928C7D38CFDCB3BC8407CAD6EE57A24FE2</td>\n",
       "      <td>0</td>\n",
       "      <td>0.033986</td>\n",
       "    </tr>\n",
       "  </tbody>\n",
       "</table>\n",
       "</div>"
      ],
      "text/plain": [
       "                                      entry  sample   latency\n",
       "0  00161E152FCF43380176F13B964656BD243D6F33       0  0.027267\n",
       "1  00459AF0E9DED00E54A48B268126679F578F695A       0  0.029477\n",
       "2  0063D0DE32C80691A0AC1A968A8CCF5ABA420E29       0  0.169964\n",
       "3  006C0B92328C89043ECCD5F031D8A333A2783598       0  0.034774\n",
       "4  007900928C7D38CFDCB3BC8407CAD6EE57A24FE2       0  0.033986"
      ]
     },
     "execution_count": 116,
     "metadata": {},
     "output_type": "execute_result"
    },
    {
     "name": "stdout",
     "output_type": "stream",
     "text": [
      "Latency statistics. The latency std is the network jitter.\n"
     ]
    },
    {
     "data": {
      "text/html": [
       "<div>\n",
       "<table border=\"1\" class=\"dataframe\">\n",
       "  <thead>\n",
       "    <tr style=\"text-align: right;\">\n",
       "      <th></th>\n",
       "      <th>sample</th>\n",
       "      <th>latency</th>\n",
       "    </tr>\n",
       "  </thead>\n",
       "  <tbody>\n",
       "    <tr>\n",
       "      <th>count</th>\n",
       "      <td>5.0</td>\n",
       "      <td>5.000000</td>\n",
       "    </tr>\n",
       "    <tr>\n",
       "      <th>mean</th>\n",
       "      <td>0.0</td>\n",
       "      <td>0.059094</td>\n",
       "    </tr>\n",
       "    <tr>\n",
       "      <th>std</th>\n",
       "      <td>0.0</td>\n",
       "      <td>0.062057</td>\n",
       "    </tr>\n",
       "    <tr>\n",
       "      <th>min</th>\n",
       "      <td>0.0</td>\n",
       "      <td>0.027267</td>\n",
       "    </tr>\n",
       "    <tr>\n",
       "      <th>25%</th>\n",
       "      <td>0.0</td>\n",
       "      <td>0.029477</td>\n",
       "    </tr>\n",
       "    <tr>\n",
       "      <th>50%</th>\n",
       "      <td>0.0</td>\n",
       "      <td>0.033986</td>\n",
       "    </tr>\n",
       "    <tr>\n",
       "      <th>75%</th>\n",
       "      <td>0.0</td>\n",
       "      <td>0.034774</td>\n",
       "    </tr>\n",
       "    <tr>\n",
       "      <th>max</th>\n",
       "      <td>0.0</td>\n",
       "      <td>0.169964</td>\n",
       "    </tr>\n",
       "  </tbody>\n",
       "</table>\n",
       "</div>"
      ],
      "text/plain": [
       "       sample   latency\n",
       "count     5.0  5.000000\n",
       "mean      0.0  0.059094\n",
       "std       0.0  0.062057\n",
       "min       0.0  0.027267\n",
       "25%       0.0  0.029477\n",
       "50%       0.0  0.033986\n",
       "75%       0.0  0.034774\n",
       "max       0.0  0.169964"
      ]
     },
     "execution_count": 116,
     "metadata": {},
     "output_type": "execute_result"
    },
    {
     "name": "stdout",
     "output_type": "stream",
     "text": [
      "Histogram for latencies\n"
     ]
    },
    {
     "data": {
      "text/plain": [
       "<matplotlib.axes._subplots.AxesSubplot at 0x107b5cf50>"
      ]
     },
     "execution_count": 116,
     "metadata": {},
     "output_type": "execute_result"
    },
    {
     "data": {
      "image/png": "[encoded data removed]",
      "text/plain": [
       "<matplotlib.figure.Figure at 0x107368f90>"
      ]
     },
     "metadata": {},
     "output_type": "display_data"
    }
   ],
   "source": [
    "print \"Latency dataset:\"\n",
    "latencies(data).head()\n",
    "\n",
    "print \"Latency statistics. The latency std is the network jitter.\"\n",
    "latencies(data).describe()\n",
    "\n",
    "print \"Histogram for latencies\"\n",
    "latencies(data)['latency'].hist()"
   ]
  },
  {
   "cell_type": "code",
   "execution_count": null,
   "metadata": {
    "collapsed": true
   },
   "outputs": [],
   "source": []
  }
 ],
 "metadata": {
  "kernelspec": {
   "display_name": "Python 2",
   "language": "python",
   "name": "python2"
  },
  "language_info": {
   "codemirror_mode": {
    "name": "ipython",
    "version": 2
   },
   "file_extension": ".py",
   "mimetype": "text/x-python",
   "name": "python",
   "nbconvert_exporter": "python",
   "pygments_lexer": "ipython2",
   "version": "2.7.11"
  },
  "latex_envs": {
   "bibliofile": "biblio.bib",
   "cite_by": "apalike",
   "current_citInitial": 1,
   "eqLabelWithNumbers": true,
   "eqNumInitial": 0
  },
  "toc": {
   "toc_cell": true,
   "toc_number_sections": true,
   "toc_threshold": 6,
   "toc_window_display": false
  }
 },
 "nbformat": 4,
 "nbformat_minor": 0
}
