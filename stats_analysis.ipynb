{
 "cells": [
  {
   "cell_type": "code",
   "execution_count": 175,
   "metadata": {
    "collapsed": false
   },
   "outputs": [
    {
     "data": {
      "application/javascript": [
       "$.getScript('http://homes.esat.kuleuven.be/~mjuarezm/ipy_toc.js')"
      ],
      "text/plain": [
       "<IPython.core.display.Javascript object>"
      ]
     },
     "metadata": {},
     "output_type": "display_data"
    }
   ],
   "source": [
    "%%javascript\n",
    "$.getScript('http://homes.esat.kuleuven.be/~mjuarezm/ipy_toc.js')"
   ]
  },
  {
   "cell_type": "markdown",
   "metadata": {
    "toc": "true"
   },
   "source": [
    "<h1 id=\"tocheading\">Table of Contents</h1>\n",
    "<div id=\"toc\"></div>"
   ]
  },
  {
   "cell_type": "code",
   "execution_count": 176,
   "metadata": {
    "collapsed": false
   },
   "outputs": [],
   "source": [
    "# ipy imports\n",
    "%matplotlib inline\n",
    "from IPython.display import HTML\n",
    "from IPython.core.interactiveshell import InteractiveShell\n",
    "\n",
    "# Notebook config\n",
    "InteractiveShell.ast_node_interactivity = \"all\""
   ]
  },
  {
   "cell_type": "code",
   "execution_count": 177,
   "metadata": {
    "collapsed": false
   },
   "outputs": [
    {
     "data": {
      "text/html": [
       "<form action=\"javascript:code_toggle()\">\n",
       "            <input type=\"submit\" value=\"Toggle cells\">\n",
       "        </form>\n",
       "     "
      ],
      "text/plain": [
       "<IPython.core.display.HTML object>"
      ]
     },
     "execution_count": 177,
     "metadata": {},
     "output_type": "execute_result"
    }
   ],
   "source": [
    "# button to toggle code\n",
    "HTML('''<form action=\"javascript:code_toggle()\">\n",
    "            <input type=\"submit\" value=\"Toggle cells\">\n",
    "        </form>\n",
    "     ''')"
   ]
  },
  {
   "cell_type": "markdown",
   "metadata": {},
   "source": [
    "# Introduction\n",
    "\n",
    "The objective of this analysis is to study the distribution of network jitter in Tor nodes. Some nodes might have a significantly large jitter than the average. We believe that in those cases, website fingerprinting may have lower effectiveness than in the nodes with low jitter. The rationale is that even if the Tor path is independent of the website, the interaction between the page structure (HTTP request/response pattern) and the jitter, may make the fingerprint less reliable than in high-jitter paths."
   ]
  },
  {
   "cell_type": "code",
   "execution_count": 178,
   "metadata": {
    "collapsed": false
   },
   "outputs": [],
   "source": [
    "import re\n",
    "from os import listdir\n",
    "from os.path import join, dirname, realpath, isdir, getmtime, splitext\n",
    "from glob import glob\n",
    "\n",
    "import numpy as np\n",
    "import pandas as pd\n",
    "\n",
    "import matplotlib as mpl\n",
    "import matplotlib.pyplot as plt\n",
    "mpl.style.use('ggplot')\n",
    "\n",
    "from ggplot import *\n",
    "\n",
    "# directories\n",
    "BASE_DIR = dirname(realpath(\"__file__\"))\n",
    "RESULTS_DIR = join(BASE_DIR, 'results')\n",
    "LATEST_FILE = max([join(RESULTS_DIR, d)\n",
    "                   for d in listdir(RESULTS_DIR)], key=getmtime)\n",
    "LATEST_DATA = '%s.csv' % splitext(LATEST_FILE)[0]"
   ]
  },
  {
   "cell_type": "code",
   "execution_count": 179,
   "metadata": {
    "collapsed": false
   },
   "outputs": [],
   "source": [
    "# URLs\n",
    "ATLAS = '<a href=\"https://atlas.torproject.org/#details/{fp}\" target=\"_blank\">{fp}</a>'\n",
    "\n",
    "def fp2url(df):\n",
    "    \"\"\"Convert node fingerprints to links to Tor Atlas.\"\"\"\n",
    "    fp_re = re.compile(r\"([A-F0-9]{40})\", re.MULTILINE | re.UNICODE)\n",
    "    def repl_fp(match):\n",
    "        match = match.group()\n",
    "        return ATLAS.format(fp=match)\n",
    "    return fp_re.sub(repl_fp, df.to_html())"
   ]
  },
  {
   "cell_type": "markdown",
   "metadata": {},
   "source": [
    "# Data collection\n",
    "\n",
    "\n",
    " To collect a latency sample, we make a TCP connection to the node's OR port and record the SYN and SYN+ACK packets. We have collected the latency dataset in batches, that is iterating over the whole list of nodes multiple times and taking several samples of each node in each iteration. This allows to obtain a more reliable estimate of the latency at a fixed time and obtain estimates of the latency at different times. In total, we have collected:"
   ]
  },
  {
   "cell_type": "code",
   "execution_count": 180,
   "metadata": {
    "collapsed": false
   },
   "outputs": [
    {
     "name": "stdout",
     "output_type": "stream",
     "text": [
      "- Total num samples: 26285\n",
      "- Found data for 5276 nodes\n",
      "- An average of 4 samples for each node.\n",
      "\n",
      "\n"
     ]
    },
    {
     "data": {
      "text/html": [
       "<div>\n",
       "<table border=\"1\" class=\"dataframe\">\n",
       "  <thead>\n",
       "    <tr style=\"text-align: right;\">\n",
       "      <th></th>\n",
       "      <th>batch_id</th>\n",
       "      <th>sample_id</th>\n",
       "      <th>fp</th>\n",
       "      <th>flags</th>\n",
       "      <th>latency</th>\n",
       "    </tr>\n",
       "  </thead>\n",
       "  <tbody>\n",
       "    <tr>\n",
       "      <th>0</th>\n",
       "      <td>1.717043e+07</td>\n",
       "      <td>0</td>\n",
       "      <td>000A10D43011EA4928A35F610405F92B4433B4DC</td>\n",
       "      <td>Running Stable Valid</td>\n",
       "      <td>0.205980</td>\n",
       "    </tr>\n",
       "    <tr>\n",
       "      <th>1</th>\n",
       "      <td>1.717043e+07</td>\n",
       "      <td>1</td>\n",
       "      <td>000A10D43011EA4928A35F610405F92B4433B4DC</td>\n",
       "      <td>Running Stable Valid</td>\n",
       "      <td>0.165011</td>\n",
       "    </tr>\n",
       "    <tr>\n",
       "      <th>2</th>\n",
       "      <td>1.717043e+07</td>\n",
       "      <td>2</td>\n",
       "      <td>000A10D43011EA4928A35F610405F92B4433B4DC</td>\n",
       "      <td>Running Stable Valid</td>\n",
       "      <td>0.190140</td>\n",
       "    </tr>\n",
       "    <tr>\n",
       "      <th>3</th>\n",
       "      <td>1.717043e+07</td>\n",
       "      <td>3</td>\n",
       "      <td>000A10D43011EA4928A35F610405F92B4433B4DC</td>\n",
       "      <td>Running Stable Valid</td>\n",
       "      <td>0.183718</td>\n",
       "    </tr>\n",
       "    <tr>\n",
       "      <th>4</th>\n",
       "      <td>1.717043e+07</td>\n",
       "      <td>4</td>\n",
       "      <td>000A10D43011EA4928A35F610405F92B4433B4DC</td>\n",
       "      <td>Running Stable Valid</td>\n",
       "      <td>0.183022</td>\n",
       "    </tr>\n",
       "  </tbody>\n",
       "</table>\n",
       "</div>"
      ],
      "text/plain": [
       "       batch_id  sample_id                                        fp  \\\n",
       "0  1.717043e+07          0  000A10D43011EA4928A35F610405F92B4433B4DC   \n",
       "1  1.717043e+07          1  000A10D43011EA4928A35F610405F92B4433B4DC   \n",
       "2  1.717043e+07          2  000A10D43011EA4928A35F610405F92B4433B4DC   \n",
       "3  1.717043e+07          3  000A10D43011EA4928A35F610405F92B4433B4DC   \n",
       "4  1.717043e+07          4  000A10D43011EA4928A35F610405F92B4433B4DC   \n",
       "\n",
       "                  flags   latency  \n",
       "0  Running Stable Valid  0.205980  \n",
       "1  Running Stable Valid  0.165011  \n",
       "2  Running Stable Valid  0.190140  \n",
       "3  Running Stable Valid  0.183718  \n",
       "4  Running Stable Valid  0.183022  "
      ]
     },
     "execution_count": 180,
     "metadata": {},
     "output_type": "execute_result"
    }
   ],
   "source": [
    "# load data\n",
    "data = pd.read_csv(join(LATEST_DATA))\n",
    "\n",
    "num_samples = len(data)\n",
    "print \"- Total num samples:\", num_samples\n",
    "\n",
    "nodes = data.groupby(['fp'])['fp'].count()\n",
    "num_nodes = len(nodes)\n",
    "print \"- Found data for\", num_nodes, \"nodes\"\n",
    "\n",
    "avg_num_samples_per_nodes = nodes.mean()\n",
    "print \"- An average of\", int(avg_num_samples_per_nodes), \"samples for each node.\"\n",
    "print \"\\n\"\n",
    "\n",
    "data.head()"
   ]
  },
  {
   "cell_type": "code",
   "execution_count": 181,
   "metadata": {
    "collapsed": false
   },
   "outputs": [],
   "source": [
    "# get stats for each sample batch\n",
    "batches = pd.DataFrame(group[['latency']].describe().rename(columns={'latency': name}).squeeze()\n",
    "                       for name, group in data.groupby('batch_id')).reset_index()\n",
    "\n",
    "# get unique latency stats\n",
    "header = ['fp', 'flags'] + [name for name in data.describe().index]\n",
    "lats = data.merge(batches, left_on='batch_id', right_on='index')[header].drop_duplicates()"
   ]
  },
  {
   "cell_type": "markdown",
   "metadata": {},
   "source": [
    "# Latency\n",
    "\n",
    "From the traffic traces collected for the TCP connections to the nodes, we extract the first SYN+ACK packet (if any) and its corresponding SYN packet. Next, we substract the SYN timestamp to the SYN+ACK timestamp to obtain a measurement of the latency to a node.\n",
    "\n",
    "Some basic statistics about the per-node median latencies:"
   ]
  },
  {
   "cell_type": "code",
   "execution_count": 182,
   "metadata": {
    "collapsed": false
   },
   "outputs": [
    {
     "data": {
      "text/plain": [
       "count    5276.000000\n",
       "mean        0.103600\n",
       "std         0.178023\n",
       "min         0.017356\n",
       "25%         0.049432\n",
       "50%         0.068676\n",
       "75%         0.120062\n",
       "max         6.417185\n",
       "Name: 50%, dtype: float64"
      ]
     },
     "execution_count": 182,
     "metadata": {},
     "output_type": "execute_result"
    }
   ],
   "source": [
    "lats['50%'].describe()"
   ]
  },
  {
   "cell_type": "code",
   "execution_count": 183,
   "metadata": {
    "collapsed": false
   },
   "outputs": [
    {
     "data": {
      "image/png": "[encoded data removed]",
      "text/plain": [
       "<matplotlib.figure.Figure at 0x7fe4cd654c90>"
      ]
     },
     "metadata": {},
     "output_type": "display_data"
    },
    {
     "data": {
      "text/plain": [
       "<ggplot: (8788792040029)>"
      ]
     },
     "execution_count": 183,
     "metadata": {},
     "output_type": "execute_result"
    },
    {
     "data": {
      "image/png": "[encoded data removed]",
      "text/plain": [
       "<matplotlib.figure.Figure at 0x7fe4d0116090>"
      ]
     },
     "metadata": {},
     "output_type": "display_data"
    },
    {
     "data": {
      "text/plain": [
       "<ggplot: (8788794915197)>"
      ]
     },
     "execution_count": 183,
     "metadata": {},
     "output_type": "execute_result"
    }
   ],
   "source": [
    "# histogram of latencies\n",
    "ggplot(lats, aes(x='50%')) + geom_histogram(bins=50)\n",
    "\n",
    "ggplot(lats, aes(x='50%')) + geom_histogram(bins=50) + scale_x_log()"
   ]
  },
  {
   "cell_type": "code",
   "execution_count": 184,
   "metadata": {
    "collapsed": false
   },
   "outputs": [
    {
     "data": {
      "image/png": "[encoded data removed]",
      "text/plain": [
       "<matplotlib.figure.Figure at 0x7fe4d06a5c50>"
      ]
     },
     "metadata": {},
     "output_type": "display_data"
    },
    {
     "data": {
      "text/plain": [
       "<ggplot: (8788795268737)>"
      ]
     },
     "execution_count": 184,
     "metadata": {},
     "output_type": "execute_result"
    },
    {
     "data": {
      "image/png": "[encoded data removed]",
      "text/plain": [
       "<matplotlib.figure.Figure at 0x7fe4cf45fd90>"
      ]
     },
     "metadata": {},
     "output_type": "display_data"
    },
    {
     "data": {
      "text/plain": [
       "<ggplot: (8788795357913)>"
      ]
     },
     "execution_count": 184,
     "metadata": {},
     "output_type": "execute_result"
    }
   ],
   "source": [
    "# check if node is exit or guard\n",
    "lats['guard'] = lats.flags.str.contains('Guard')\n",
    "lats['exit'] = lats.flags.str.contains('Exit')\n",
    "\n",
    "# boxplot exit or non-exit\n",
    "ggplot(lats, aes(x='exit', y='50%')) + geom_boxplot(outliers=False)\n",
    "\n",
    "# boxplot guard or non-guard\n",
    "ggplot(lats, aes(x='guard', y='50%')) + geom_boxplot(outliers=False)"
   ]
  },
  {
   "cell_type": "markdown",
   "metadata": {},
   "source": [
    "Top nodes by median latency:"
   ]
  },
  {
   "cell_type": "code",
   "execution_count": 185,
   "metadata": {
    "collapsed": false
   },
   "outputs": [
    {
     "data": {
      "text/html": [
       "<table border=\"1\" class=\"dataframe\">\n",
       "  <thead>\n",
       "    <tr style=\"text-align: right;\">\n",
       "      <th></th>\n",
       "      <th>fp</th>\n",
       "      <th>50%</th>\n",
       "    </tr>\n",
       "  </thead>\n",
       "  <tbody>\n",
       "    <tr>\n",
       "      <th>10703</th>\n",
       "      <td><a href=\"https://atlas.torproject.org/#details/52D60084AFFF74A4CFD07B8ABBEAE114DEB0BAF9\" target=\"_blank\">52D60084AFFF74A4CFD07B8ABBEAE114DEB0BAF9</a></td>\n",
       "      <td>6.417185</td>\n",
       "    </tr>\n",
       "    <tr>\n",
       "      <th>7506</th>\n",
       "      <td><a href=\"https://atlas.torproject.org/#details/39EB2F7C4C87F446134966D84CB2030DD0127478\" target=\"_blank\">39EB2F7C4C87F446134966D84CB2030DD0127478</a></td>\n",
       "      <td>3.367739</td>\n",
       "    </tr>\n",
       "    <tr>\n",
       "      <th>7456</th>\n",
       "      <td><a href=\"https://atlas.torproject.org/#details/3963F78F86EB64A11F94CEE76ADD4C7CF7979DD7\" target=\"_blank\">3963F78F86EB64A11F94CEE76ADD4C7CF7979DD7</a></td>\n",
       "      <td>3.181068</td>\n",
       "    </tr>\n",
       "    <tr>\n",
       "      <th>23655</th>\n",
       "      <td><a href=\"https://atlas.torproject.org/#details/B9353EEABE33FBE3E2FED5090C5F373F402091D8\" target=\"_blank\">B9353EEABE33FBE3E2FED5090C5F373F402091D8</a></td>\n",
       "      <td>3.119905</td>\n",
       "    </tr>\n",
       "    <tr>\n",
       "      <th>18856</th>\n",
       "      <td><a href=\"https://atlas.torproject.org/#details/94DC6D7FDA7CB371120492194A73E4B02A247F0E\" target=\"_blank\">94DC6D7FDA7CB371120492194A73E4B02A247F0E</a></td>\n",
       "      <td>3.087978</td>\n",
       "    </tr>\n",
       "  </tbody>\n",
       "</table>"
      ],
      "text/plain": [
       "<IPython.core.display.HTML object>"
      ]
     },
     "execution_count": 185,
     "metadata": {},
     "output_type": "execute_result"
    }
   ],
   "source": [
    "top_lat = lats.sort_values(['50%'], ascending=False).head()\n",
    "HTML(fp2url(top_lat[['fp', '50%']]))"
   ]
  },
  {
   "cell_type": "markdown",
   "metadata": {
    "collapsed": true
   },
   "source": [
    "# Jitter\n",
    "\n",
    "We measure jitter of a node as the variance of the node's latency across batches and within a batch."
   ]
  },
  {
   "cell_type": "code",
   "execution_count": 186,
   "metadata": {
    "collapsed": false
   },
   "outputs": [],
   "source": [
    "# we already have jitter within batch\n",
    "jitter_batch = lats.groupby('')['50%'].std().reset_index(name='jitter')\n",
    "\n",
    "# compute jitter across batches\n",
    "jitter_batches = lats.groupby('fp')['50%'].std().reset_index(name='jitter')"
   ]
  },
  {
   "cell_type": "markdown",
   "metadata": {},
   "source": [
    "Top nodes by jitter:"
   ]
  },
  {
   "cell_type": "code",
   "execution_count": 187,
   "metadata": {
    "collapsed": false
   },
   "outputs": [],
   "source": [
    "#top_jitter = node_stats.sort_values(['jitter'], ascending=False).head()\n",
    "#HTML(fp2url(top_jitter))"
   ]
  },
  {
   "cell_type": "code",
   "execution_count": null,
   "metadata": {
    "collapsed": true
   },
   "outputs": [],
   "source": []
  }
 ],
 "metadata": {
  "kernelspec": {
   "display_name": "Python 2",
   "language": "python",
   "name": "python2"
  },
  "language_info": {
   "codemirror_mode": {
    "name": "ipython",
    "version": 2
   },
   "file_extension": ".py",
   "mimetype": "text/x-python",
   "name": "python",
   "nbconvert_exporter": "python",
   "pygments_lexer": "ipython2",
   "version": "2.7.9"
  },
  "latex_envs": {
   "bibliofile": "biblio.bib",
   "cite_by": "apalike",
   "current_citInitial": 1,
   "eqLabelWithNumbers": true,
   "eqNumInitial": 0
  },
  "toc": {
   "toc_cell": true,
   "toc_number_sections": true,
   "toc_threshold": 6,
   "toc_window_display": false
  }
 },
 "nbformat": 4,
 "nbformat_minor": 0
}
