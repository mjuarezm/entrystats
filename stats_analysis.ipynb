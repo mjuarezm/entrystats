{
 "cells": [
  {
   "cell_type": "markdown",
   "metadata": {
    "toc": "true"
   },
   "source": [
    "# Table of Contents\n",
    " <p><div class=\"lev1\"><a href=\"#Introduction\"><span class=\"toc-item-num\">1&nbsp;&nbsp;</span>Introduction</a></div><div class=\"lev2\"><a href=\"#Collected-data\"><span class=\"toc-item-num\">1.1&nbsp;&nbsp;</span>Collected data</a></div><div class=\"lev2\"><a href=\"#Collected-data\"><span class=\"toc-item-num\">1.2&nbsp;&nbsp;</span>Collected data</a></div><div class=\"lev2\"><a href=\"#Latency\"><span class=\"toc-item-num\">1.3&nbsp;&nbsp;</span>Latency</a></div>"
   ]
  },
  {
   "cell_type": "markdown",
   "metadata": {},
   "source": [
    "# Introduction\n",
    "\n",
    "The objective of this analysis is to study the distribution of network jitter in Tor entry guards. Some nodes might have a significantly large jitter than the average. We believe that in those cases, website fingerprinting may have lower effectiveness than in the entry guards with low jitter. The rationale is that even if the entry to guard TCP connection is independent of the website, the interaction between the page structure (HTTP request/response pattern) and the jitter, may make the fingerprint less reliable than in low-jitter guards."
   ]
  },
  {
   "cell_type": "code",
   "execution_count": 2,
   "metadata": {
    "collapsed": false
   },
   "outputs": [
    {
     "name": "stderr",
     "output_type": "stream",
     "text": [
      "//anaconda/lib/python2.7/site-packages/pandas/computation/__init__.py:19: UserWarning: The installed version of numexpr 2.4.4 is not supported in pandas and will be not be used\n",
      "\n",
      "  UserWarning)\n"
     ]
    }
   ],
   "source": [
    "%matplotlib inline\n",
    "from os import listdir\n",
    "from os.path import join, dirname, realpath, isdir, getmtime\n",
    "from glob import glob\n",
    "\n",
    "import numpy as np\n",
    "import pandas as pd\n",
    "\n",
    "import matplotlib as mpl\n",
    "import matplotlib.pyplot as plt\n",
    "mpl.style.use('ggplot')\n",
    "\n",
    "from IPython.display import HTML\n",
    "from IPython.core.interactiveshell import InteractiveShell\n",
    "\n",
    "# Notebook config\n",
    "InteractiveShell.ast_node_interactivity = \"all\""
   ]
  },
  {
   "cell_type": "code",
   "execution_count": 16,
   "metadata": {
    "collapsed": false
   },
   "outputs": [
    {
     "data": {
      "text/html": [
       "<script>\n",
       "code_show=true; \n",
       "function code_toggle() {\n",
       " document.title = 'Variance analysis';\n",
       " code_show = !code_show\n",
       " var divs = document.getElementsByClassName('input');\n",
       " var divs = document.getElementsByClassName('input');\n",
       " if (code_show){\n",
       "   for (var i in divs) {\n",
       "     if (typeof divs[i] != 'undefined') {\n",
       "       divs[i].style.display = 'block';\n",
       "     } \n",
       "   }\n",
       " } else {\n",
       "   for (var i in divs) {\n",
       "     if (typeof divs[i] != 'undefined') {\n",
       "       divs[i].style.display = 'none';\n",
       "     } \n",
       "   }\n",
       " }\n",
       "} \n",
       "\n",
       "document.addEventListener(\"DOMContentLoaded\", function(event) { \n",
       "  code_toggle()\n",
       "});\n",
       "</script>\n",
       "<form action=\"javascript:code_toggle()\"><input type=\"submit\" value=\"Click here to toggle on/off the raw code.\"></form>"
      ],
      "text/plain": [
       "<IPython.core.display.HTML object>"
      ]
     },
     "execution_count": 16,
     "metadata": {},
     "output_type": "execute_result"
    }
   ],
   "source": [
    "# button to toggle code\n",
    "\n",
    "HTML('''<script>\n",
    "code_show=true; \n",
    "function code_toggle() {\n",
    " document.title = 'Variance analysis';\n",
    " code_show = !code_show\n",
    " var divs = document.getElementsByClassName('input');\n",
    " var divs = document.getElementsByClassName('input');\n",
    " if (code_show){\n",
    "   for (var i in divs) {\n",
    "     if (typeof divs[i] != 'undefined') {\n",
    "       divs[i].style.display = 'block';\n",
    "     } \n",
    "   }\n",
    " } else {\n",
    "   for (var i in divs) {\n",
    "     if (typeof divs[i] != 'undefined') {\n",
    "       divs[i].style.display = 'none';\n",
    "     } \n",
    "   }\n",
    " }\n",
    "} \n",
    "\n",
    "document.addEventListener(\"DOMContentLoaded\", function(event) { \n",
    "  code_toggle()\n",
    "});\n",
    "</script>\n",
    "<form action=\"javascript:code_toggle()\"><input type=\"submit\" value=\"Click here to toggle on/off the raw code.\"></form>''')"
   ]
  },
  {
   "cell_type": "code",
   "execution_count": 3,
   "metadata": {
    "collapsed": false
   },
   "outputs": [],
   "source": [
    "# directories\n",
    "BASE_DIR = dirname(realpath(\"__file__\"))\n",
    "RESULTS_DIR = join(BASE_DIR, 'results')\n",
    "LATEST_DIR = max([join(RESULTS_DIR, d) for d in listdir(RESULTS_DIR)\n",
    "                  if isdir(join(RESULTS_DIR, d))], key=getmtime)\n",
    "\n",
    "# globals\n",
    "CSV_NAMES = [\"ip_proto\", \"epoch\",\n",
    "             \"ip_src\", \"ip_dst\", \"port_src\", \"port_dst\",\n",
    "             \"ip_len\", \"ip_hdr_len\", \"tcp_hdr_len\", \"data_len\",\n",
    "             \"tcp_flags\", \"tcp_seq\", \"tcp_ack\",\n",
    "             \"tcp_window_size_value\", \"ws_message\",\n",
    "             \"tcp_options_tsval\", \"tcp_options_tsecr\"]"
   ]
  },
  {
   "cell_type": "code",
   "execution_count": 4,
   "metadata": {
    "collapsed": false
   },
   "outputs": [],
   "source": [
    "# get filenames\n",
    "stat_files = {}\n",
    "for fname in listdir(LATEST_DIR):\n",
    "    if fname not in stat_files:\n",
    "        key = fname.split('_')[0]\n",
    "        stat_files[key] = glob(join(LATEST_DIR, key + '*'))\n",
    "\n",
    "guards = len(stat_files)\n",
    "avg_samples = np.mean([len(l) for l in stat_files.itervalues()])"
   ]
  },
  {
   "cell_type": "markdown",
   "metadata": {},
   "source": [
    "## Collected data\n",
    "\n",
    "We have collected:"
   ]
  },
  {
   "cell_type": "code",
   "execution_count": 8,
   "metadata": {
    "collapsed": false
   },
   "outputs": [
    {
     "name": "stdout",
     "output_type": "stream",
     "text": [
      "- Data for 520 entry guards\n",
      "- An average of 1 samples for each entry guard.\n"
     ]
    }
   ],
   "source": [
    "print \"- Data for\", guards, \"entry guards\"\n",
    "print \"- An average of\", int(avg_samples), \"samples for each entry guard.\""
   ]
  },
  {
   "cell_type": "markdown",
   "metadata": {
    "variables": {
     "guards": "426",
     "int(avg_samples)": "1"
    }
   },
   "source": [
    "This is how the dataset looks like:"
   ]
  },
  {
   "cell_type": "code",
   "execution_count": 5,
   "metadata": {
    "code_folding": [],
    "collapsed": false
   },
   "outputs": [
    {
     "data": {
      "text/html": [
       "<div>\n",
       "<table border=\"1\" class=\"dataframe\">\n",
       "  <thead>\n",
       "    <tr style=\"text-align: right;\">\n",
       "      <th></th>\n",
       "      <th>entry</th>\n",
       "      <th>sample</th>\n",
       "      <th>ip_proto</th>\n",
       "      <th>epoch</th>\n",
       "      <th>ip_src</th>\n",
       "      <th>ip_dst</th>\n",
       "      <th>port_src</th>\n",
       "      <th>port_dst</th>\n",
       "      <th>ip_len</th>\n",
       "      <th>ip_hdr_len</th>\n",
       "      <th>tcp_hdr_len</th>\n",
       "      <th>data_len</th>\n",
       "      <th>tcp_flags</th>\n",
       "      <th>tcp_seq</th>\n",
       "      <th>tcp_ack</th>\n",
       "      <th>tcp_window_size_value</th>\n",
       "      <th>ws_message</th>\n",
       "      <th>tcp_options_tsval</th>\n",
       "      <th>tcp_options_tsecr</th>\n",
       "      <th>sample</th>\n",
       "    </tr>\n",
       "  </thead>\n",
       "  <tbody>\n",
       "    <tr>\n",
       "      <th>0</th>\n",
       "      <td>0882440874034AFBE2FBF16463A290F3278E24F7</td>\n",
       "      <td>0</td>\n",
       "      <td>6.0</td>\n",
       "      <td>1.485698e+09</td>\n",
       "      <td>172.17.0.2</td>\n",
       "      <td>176.58.121.159</td>\n",
       "      <td>59798.0</td>\n",
       "      <td>9001.0</td>\n",
       "      <td>60.0</td>\n",
       "      <td>20.0</td>\n",
       "      <td>40.0</td>\n",
       "      <td>NaN</td>\n",
       "      <td>0x0002</td>\n",
       "      <td>0.0</td>\n",
       "      <td>NaN</td>\n",
       "      <td>29200.0</td>\n",
       "      <td>NaN</td>\n",
       "      <td>1674606.0</td>\n",
       "      <td>0.0</td>\n",
       "      <td>0</td>\n",
       "    </tr>\n",
       "    <tr>\n",
       "      <th>1</th>\n",
       "      <td>0882440874034AFBE2FBF16463A290F3278E24F7</td>\n",
       "      <td>0</td>\n",
       "      <td>6.0</td>\n",
       "      <td>1.485698e+09</td>\n",
       "      <td>176.58.121.159</td>\n",
       "      <td>172.17.0.2</td>\n",
       "      <td>9001.0</td>\n",
       "      <td>59798.0</td>\n",
       "      <td>48.0</td>\n",
       "      <td>20.0</td>\n",
       "      <td>28.0</td>\n",
       "      <td>NaN</td>\n",
       "      <td>0x0012</td>\n",
       "      <td>0.0</td>\n",
       "      <td>1.0</td>\n",
       "      <td>65535.0</td>\n",
       "      <td>NaN</td>\n",
       "      <td>NaN</td>\n",
       "      <td>NaN</td>\n",
       "      <td>0</td>\n",
       "    </tr>\n",
       "    <tr>\n",
       "      <th>0</th>\n",
       "      <td>02C2FFF7DF14A396FAFA828443561DAA08EB8DC0</td>\n",
       "      <td>0</td>\n",
       "      <td>6.0</td>\n",
       "      <td>1.485697e+09</td>\n",
       "      <td>172.17.0.2</td>\n",
       "      <td>163.44.112.230</td>\n",
       "      <td>52786.0</td>\n",
       "      <td>9001.0</td>\n",
       "      <td>60.0</td>\n",
       "      <td>20.0</td>\n",
       "      <td>40.0</td>\n",
       "      <td>NaN</td>\n",
       "      <td>0x0002</td>\n",
       "      <td>0.0</td>\n",
       "      <td>NaN</td>\n",
       "      <td>29200.0</td>\n",
       "      <td>NaN</td>\n",
       "      <td>1613906.0</td>\n",
       "      <td>0.0</td>\n",
       "      <td>0</td>\n",
       "    </tr>\n",
       "    <tr>\n",
       "      <th>1</th>\n",
       "      <td>02C2FFF7DF14A396FAFA828443561DAA08EB8DC0</td>\n",
       "      <td>0</td>\n",
       "      <td>6.0</td>\n",
       "      <td>1.485697e+09</td>\n",
       "      <td>163.44.112.230</td>\n",
       "      <td>172.17.0.2</td>\n",
       "      <td>9001.0</td>\n",
       "      <td>52786.0</td>\n",
       "      <td>48.0</td>\n",
       "      <td>20.0</td>\n",
       "      <td>28.0</td>\n",
       "      <td>NaN</td>\n",
       "      <td>0x0012</td>\n",
       "      <td>0.0</td>\n",
       "      <td>1.0</td>\n",
       "      <td>65535.0</td>\n",
       "      <td>NaN</td>\n",
       "      <td>NaN</td>\n",
       "      <td>NaN</td>\n",
       "      <td>0</td>\n",
       "    </tr>\n",
       "    <tr>\n",
       "      <th>0</th>\n",
       "      <td>1D3F937E2053E58C18E18D43FA5153E2A9F4DC77</td>\n",
       "      <td>0</td>\n",
       "      <td>6.0</td>\n",
       "      <td>1.485700e+09</td>\n",
       "      <td>172.17.0.2</td>\n",
       "      <td>139.59.172.93</td>\n",
       "      <td>56678.0</td>\n",
       "      <td>443.0</td>\n",
       "      <td>60.0</td>\n",
       "      <td>20.0</td>\n",
       "      <td>40.0</td>\n",
       "      <td>NaN</td>\n",
       "      <td>0x0002</td>\n",
       "      <td>0.0</td>\n",
       "      <td>NaN</td>\n",
       "      <td>29200.0</td>\n",
       "      <td>NaN</td>\n",
       "      <td>1901008.0</td>\n",
       "      <td>0.0</td>\n",
       "      <td>0</td>\n",
       "    </tr>\n",
       "  </tbody>\n",
       "</table>\n",
       "</div>"
      ],
      "text/plain": [
       "                                      entry  sample  ip_proto         epoch  \\\n",
       "0  0882440874034AFBE2FBF16463A290F3278E24F7       0       6.0  1.485698e+09   \n",
       "1  0882440874034AFBE2FBF16463A290F3278E24F7       0       6.0  1.485698e+09   \n",
       "0  02C2FFF7DF14A396FAFA828443561DAA08EB8DC0       0       6.0  1.485697e+09   \n",
       "1  02C2FFF7DF14A396FAFA828443561DAA08EB8DC0       0       6.0  1.485697e+09   \n",
       "0  1D3F937E2053E58C18E18D43FA5153E2A9F4DC77       0       6.0  1.485700e+09   \n",
       "\n",
       "           ip_src          ip_dst  port_src  port_dst  ip_len  ip_hdr_len  \\\n",
       "0      172.17.0.2  176.58.121.159   59798.0    9001.0    60.0        20.0   \n",
       "1  176.58.121.159      172.17.0.2    9001.0   59798.0    48.0        20.0   \n",
       "0      172.17.0.2  163.44.112.230   52786.0    9001.0    60.0        20.0   \n",
       "1  163.44.112.230      172.17.0.2    9001.0   52786.0    48.0        20.0   \n",
       "0      172.17.0.2   139.59.172.93   56678.0     443.0    60.0        20.0   \n",
       "\n",
       "   tcp_hdr_len  data_len tcp_flags  tcp_seq  tcp_ack  tcp_window_size_value  \\\n",
       "0         40.0       NaN    0x0002      0.0      NaN                29200.0   \n",
       "1         28.0       NaN    0x0012      0.0      1.0                65535.0   \n",
       "0         40.0       NaN    0x0002      0.0      NaN                29200.0   \n",
       "1         28.0       NaN    0x0012      0.0      1.0                65535.0   \n",
       "0         40.0       NaN    0x0002      0.0      NaN                29200.0   \n",
       "\n",
       "   ws_message  tcp_options_tsval  tcp_options_tsecr  sample  \n",
       "0         NaN          1674606.0                0.0       0  \n",
       "1         NaN                NaN                NaN       0  \n",
       "0         NaN          1613906.0                0.0       0  \n",
       "1         NaN                NaN                NaN       0  \n",
       "0         NaN          1901008.0                0.0       0  "
      ]
     },
     "execution_count": 5,
     "metadata": {},
     "output_type": "execute_result"
    }
   ],
   "source": [
    "# load data in a dataframe\n",
    "dfs = []\n",
    "for k, l in stat_files.iteritems():\n",
    "    for i, fpath in enumerate(l):\n",
    "        df = pd.read_csv(fpath, names=CSV_NAMES)\n",
    "        df = df[(df['tcp_flags'] == '0x0002') | (df['tcp_flags'] == '0x0012')]  # SYN and SYN,ACK packets\n",
    "        df['entry'] = k\n",
    "        df['sample'] = i\n",
    "        dfs.append(df)\n",
    "data = pd.concat(dfs)\n",
    "data[['entry', 'sample'] + [c for c in data.columns if c != 'entry' and c != 'sample']].head()"
   ]
  },
  {
   "cell_type": "markdown",
   "metadata": {},
   "source": [
    "## Latency\n",
    "\n",
    "We compute the latency by extracting the SYN, SYN-ACK packets of the TCP connection for the Tor circuit to each entry. We substract the SYN-ACK timestamp to the SYN timestamp to obtain the latency to that specific entry.\n",
    "\n",
    "This is the dataset of latencies:"
   ]
  },
  {
   "cell_type": "code",
   "execution_count": 20,
   "metadata": {
    "collapsed": false
   },
   "outputs": [],
   "source": [
    "def latencies(data):\n",
    "    \"\"\"Compute latencies for all samples in the dataframe.\"\"\"\n",
    "    def ts(d):\n",
    "        if len(d) >=2:\n",
    "            return np.diff(d['epoch'])[0]\n",
    "        return np.nan\n",
    "    return data.groupby(['entry', 'sample']).apply(ts).reset_index(name='latency')\n",
    "\n",
    "def jitter(latencies):\n",
    "    \"\"\"Compute jitter for latency data.\"\"\"\n",
    "    return latencies['latency']"
   ]
  },
  {
   "cell_type": "code",
   "execution_count": 21,
   "metadata": {
    "collapsed": false
   },
   "outputs": [
    {
     "data": {
      "text/html": [
       "<div>\n",
       "<table border=\"1\" class=\"dataframe\">\n",
       "  <thead>\n",
       "    <tr style=\"text-align: right;\">\n",
       "      <th></th>\n",
       "      <th>entry</th>\n",
       "      <th>sample</th>\n",
       "      <th>latency</th>\n",
       "    </tr>\n",
       "  </thead>\n",
       "  <tbody>\n",
       "    <tr>\n",
       "      <th>3</th>\n",
       "      <td>00943662F30ECE7AA2D1262B364FC0431F78F80C</td>\n",
       "      <td>0</td>\n",
       "      <td>0.119213</td>\n",
       "    </tr>\n",
       "    <tr>\n",
       "      <th>4</th>\n",
       "      <td>00AD0313351C07411F44C0A78FC54C3EBAE23265</td>\n",
       "      <td>0</td>\n",
       "      <td>0.132808</td>\n",
       "    </tr>\n",
       "    <tr>\n",
       "      <th>5</th>\n",
       "      <td>00E64ADF25DCB86A98C77994E3D281583BE21E32</td>\n",
       "      <td>0</td>\n",
       "      <td>0.040932</td>\n",
       "    </tr>\n",
       "    <tr>\n",
       "      <th>6</th>\n",
       "      <td>00FCEEEE1DDD04C94A2AEFFC654242813C5C84BB</td>\n",
       "      <td>0</td>\n",
       "      <td>0.051303</td>\n",
       "    </tr>\n",
       "    <tr>\n",
       "      <th>7</th>\n",
       "      <td>010B7728454411F485CE29D4C79A14534151C2C4</td>\n",
       "      <td>0</td>\n",
       "      <td>0.061086</td>\n",
       "    </tr>\n",
       "  </tbody>\n",
       "</table>\n",
       "</div>"
      ],
      "text/plain": [
       "                                      entry  sample   latency\n",
       "3  00943662F30ECE7AA2D1262B364FC0431F78F80C       0  0.119213\n",
       "4  00AD0313351C07411F44C0A78FC54C3EBAE23265       0  0.132808\n",
       "5  00E64ADF25DCB86A98C77994E3D281583BE21E32       0  0.040932\n",
       "6  00FCEEEE1DDD04C94A2AEFFC654242813C5C84BB       0  0.051303\n",
       "7  010B7728454411F485CE29D4C79A14534151C2C4       0  0.061086"
      ]
     },
     "execution_count": 21,
     "metadata": {},
     "output_type": "execute_result"
    }
   ],
   "source": [
    "lats = latencies(data).dropna()\n",
    "lats.head()"
   ]
  },
  {
   "cell_type": "markdown",
   "metadata": {
    "collapsed": false
   },
   "source": [
    "We extract some basic statistics about the latencies:"
   ]
  },
  {
   "cell_type": "code",
   "execution_count": 27,
   "metadata": {
    "collapsed": false
   },
   "outputs": [
    {
     "data": {
      "text/html": [
       "<div>\n",
       "<table border=\"1\" class=\"dataframe\">\n",
       "  <thead>\n",
       "    <tr style=\"text-align: right;\">\n",
       "      <th></th>\n",
       "      <th>sample</th>\n",
       "      <th>latency</th>\n",
       "    </tr>\n",
       "  </thead>\n",
       "  <tbody>\n",
       "    <tr>\n",
       "      <th>count</th>\n",
       "      <td>229.0</td>\n",
       "      <td>229.000000</td>\n",
       "    </tr>\n",
       "    <tr>\n",
       "      <th>mean</th>\n",
       "      <td>0.0</td>\n",
       "      <td>0.072303</td>\n",
       "    </tr>\n",
       "    <tr>\n",
       "      <th>std</th>\n",
       "      <td>0.0</td>\n",
       "      <td>0.120728</td>\n",
       "    </tr>\n",
       "    <tr>\n",
       "      <th>min</th>\n",
       "      <td>0.0</td>\n",
       "      <td>0.015577</td>\n",
       "    </tr>\n",
       "    <tr>\n",
       "      <th>25%</th>\n",
       "      <td>0.0</td>\n",
       "      <td>0.029334</td>\n",
       "    </tr>\n",
       "    <tr>\n",
       "      <th>50%</th>\n",
       "      <td>0.0</td>\n",
       "      <td>0.039045</td>\n",
       "    </tr>\n",
       "    <tr>\n",
       "      <th>75%</th>\n",
       "      <td>0.0</td>\n",
       "      <td>0.073639</td>\n",
       "    </tr>\n",
       "    <tr>\n",
       "      <th>max</th>\n",
       "      <td>0.0</td>\n",
       "      <td>1.071593</td>\n",
       "    </tr>\n",
       "  </tbody>\n",
       "</table>\n",
       "</div>"
      ],
      "text/plain": [
       "       sample     latency\n",
       "count   229.0  229.000000\n",
       "mean      0.0    0.072303\n",
       "std       0.0    0.120728\n",
       "min       0.0    0.015577\n",
       "25%       0.0    0.029334\n",
       "50%       0.0    0.039045\n",
       "75%       0.0    0.073639\n",
       "max       0.0    1.071593"
      ]
     },
     "execution_count": 27,
     "metadata": {},
     "output_type": "execute_result"
    }
   ],
   "source": [
    "lats.describe()"
   ]
  },
  {
   "cell_type": "markdown",
   "metadata": {
    "collapsed": true
   },
   "source": [
    "We plot the histogram of latencies:"
   ]
  },
  {
   "cell_type": "code",
   "execution_count": 30,
   "metadata": {
    "collapsed": false
   },
   "outputs": [
    {
     "data": {
      "text/plain": [
       "<matplotlib.axes._subplots.AxesSubplot at 0x107a64bd0>"
      ]
     },
     "execution_count": 30,
     "metadata": {},
     "output_type": "execute_result"
    },
    {
     "data": {
      "text/plain": [
       "<matplotlib.axes._subplots.AxesSubplot at 0x10822b190>"
      ]
     },
     "execution_count": 30,
     "metadata": {},
     "output_type": "execute_result"
    },
    {
     "data": {
      "image/png": "[encoded data removed]",
      "text/plain": [
       "<matplotlib.figure.Figure at 0x107a64590>"
      ]
     },
     "metadata": {},
     "output_type": "display_data"
    }
   ],
   "source": [
    "fig, (ax1, ax2) = plt.subplots(nrows=1, ncols=2)\n",
    "lats['latency'].plot(kind='hist', bins=20, ax=ax1, figsize=(10, 3), title=\"Entry latency\")\n",
    "lats['latency'].apply(np.log).plot(kind='hist', bins=20, ax=ax2, figsize=(10, 3), title=\"Entry altency (log scale)\")"
   ]
  },
  {
   "cell_type": "code",
   "execution_count": null,
   "metadata": {
    "collapsed": true
   },
   "outputs": [],
   "source": []
  }
 ],
 "metadata": {
  "kernelspec": {
   "display_name": "Python 2",
   "language": "python",
   "name": "python2"
  },
  "language_info": {
   "codemirror_mode": {
    "name": "ipython",
    "version": 2
   },
   "file_extension": ".py",
   "mimetype": "text/x-python",
   "name": "python",
   "nbconvert_exporter": "python",
   "pygments_lexer": "ipython2",
   "version": "2.7.11"
  },
  "latex_envs": {
   "bibliofile": "biblio.bib",
   "cite_by": "apalike",
   "current_citInitial": 1,
   "eqLabelWithNumbers": true,
   "eqNumInitial": 0
  },
  "toc": {
   "toc_cell": true,
   "toc_number_sections": true,
   "toc_threshold": 6,
   "toc_window_display": false
  }
 },
 "nbformat": 4,
 "nbformat_minor": 0
}
